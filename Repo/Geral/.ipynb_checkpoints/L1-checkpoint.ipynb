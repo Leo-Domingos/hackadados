{
 "cells": [
  {
   "cell_type": "code",
   "execution_count": 2,
   "id": "dec53743-5a0a-4484-8255-ffe57346c2e2",
   "metadata": {},
   "outputs": [],
   "source": [
    "import pandas as pd\n",
    "import seaborn as sns\n",
    "import matplotlib.pyplot as plt \n",
    "import warnings\n",
    "warnings.filterwarnings(\"ignore\")\n",
    "\n",
    "from google.cloud.bigquery import Client, QueryJobConfig\n",
    "client = Client()"
   ]
  },
  {
   "cell_type": "code",
   "execution_count": 3,
   "id": "af625592-eb79-4e4b-a78a-3b25dbb34aad",
   "metadata": {},
   "outputs": [],
   "source": [
    "query = \"\"\"\n",
    "SELECT \n",
    "    ID, \n",
    "    CdUfNaturalidade,\n",
    "    Grupo_Etario,\n",
    "    VrRenda,\n",
    "    CdOcupacaoCBO,\n",
    "    Capacidade_de_Pagamento_1,\n",
    "    Capacidade_de_Pagamento_2,\n",
    "    Capacidade_de_Pagamento_3,\n",
    "    Capacidade_de_Pagamento_4,\n",
    "    Capacidade_de_Pagamento_5,\n",
    "    Capacidade_de_Pagamento_6,\n",
    "    Capacidade_de_Pagamento_7,\n",
    "    fl_renovou \n",
    "FROM `hacka-1.dataset.view_dados_hacka`\n",
    "WHERE Sub_Produto in ('CDC VEICULOS DE PASSEIO','PRE APROVADO CDC VEICULOS DE PASSEIO','REFINANCIAMENTO VEICULOS DE PASSEIO')\n",
    "AND QtParcelas in (24, 36, 48, 54, 60)\n",
    "AND QtCilindradaVeiculo > 995\n",
    "AND QtCilindradaVeiculo < 3000\n",
    "AND QtQuilometragemVeiculo < 150000\n",
    "AND AaFabricacaoVeiculo >= 2008\n",
    "AND AaFabricacaoVeiculo <= 2019\n",
    "AND VrMercado <= 2.02\n",
    "\"\"\"\n",
    "job = client.query(query)\n",
    "df = job.to_dataframe()"
   ]
  },
  {
   "cell_type": "code",
   "execution_count": 4,
   "id": "358da3d5-b392-4693-a2aa-c72ac283191d",
   "metadata": {},
   "outputs": [
    {
     "data": {
      "text/html": [
       "<div>\n",
       "<style scoped>\n",
       "    .dataframe tbody tr th:only-of-type {\n",
       "        vertical-align: middle;\n",
       "    }\n",
       "\n",
       "    .dataframe tbody tr th {\n",
       "        vertical-align: top;\n",
       "    }\n",
       "\n",
       "    .dataframe thead th {\n",
       "        text-align: right;\n",
       "    }\n",
       "</style>\n",
       "<table border=\"1\" class=\"dataframe\">\n",
       "  <thead>\n",
       "    <tr style=\"text-align: right;\">\n",
       "      <th></th>\n",
       "      <th>ID</th>\n",
       "      <th>CdUfNaturalidade</th>\n",
       "      <th>Grupo_Etario</th>\n",
       "      <th>VrRenda</th>\n",
       "      <th>CdOcupacaoCBO</th>\n",
       "      <th>Capacidade_de_Pagamento_1</th>\n",
       "      <th>Capacidade_de_Pagamento_2</th>\n",
       "      <th>Capacidade_de_Pagamento_3</th>\n",
       "      <th>Capacidade_de_Pagamento_4</th>\n",
       "      <th>Capacidade_de_Pagamento_5</th>\n",
       "      <th>Capacidade_de_Pagamento_6</th>\n",
       "      <th>Capacidade_de_Pagamento_7</th>\n",
       "      <th>fl_renovou</th>\n",
       "    </tr>\n",
       "  </thead>\n",
       "  <tbody>\n",
       "    <tr>\n",
       "      <th>0</th>\n",
       "      <td>10</td>\n",
       "      <td>Sul</td>\n",
       "      <td>0</td>\n",
       "      <td>-0.258278</td>\n",
       "      <td>3048</td>\n",
       "      <td>0</td>\n",
       "      <td>0.039955</td>\n",
       "      <td>1.540104</td>\n",
       "      <td>0.306072</td>\n",
       "      <td>-0.403506</td>\n",
       "      <td>-1.234926</td>\n",
       "      <td>8</td>\n",
       "      <td>0</td>\n",
       "    </tr>\n",
       "    <tr>\n",
       "      <th>1</th>\n",
       "      <td>23</td>\n",
       "      <td>nan</td>\n",
       "      <td>0</td>\n",
       "      <td>2.374450</td>\n",
       "      <td>7897</td>\n",
       "      <td>0</td>\n",
       "      <td>-0.056944</td>\n",
       "      <td>1.290148</td>\n",
       "      <td>-0.540772</td>\n",
       "      <td>1.821419</td>\n",
       "      <td>1.268513</td>\n",
       "      <td>7</td>\n",
       "      <td>0</td>\n",
       "    </tr>\n",
       "    <tr>\n",
       "      <th>2</th>\n",
       "      <td>85</td>\n",
       "      <td>Sudeste</td>\n",
       "      <td>0</td>\n",
       "      <td>-0.409450</td>\n",
       "      <td>Indeterminado</td>\n",
       "      <td>1</td>\n",
       "      <td>-0.879312</td>\n",
       "      <td>1.220721</td>\n",
       "      <td>0.466621</td>\n",
       "      <td>-0.564490</td>\n",
       "      <td>-0.619880</td>\n",
       "      <td>8</td>\n",
       "      <td>0</td>\n",
       "    </tr>\n",
       "    <tr>\n",
       "      <th>3</th>\n",
       "      <td>150</td>\n",
       "      <td>Centro-oeste</td>\n",
       "      <td>0</td>\n",
       "      <td>-1.715667</td>\n",
       "      <td>7897</td>\n",
       "      <td>0</td>\n",
       "      <td>0.831527</td>\n",
       "      <td>-1.406802</td>\n",
       "      <td>-0.914333</td>\n",
       "      <td>1.079745</td>\n",
       "      <td>-1.289548</td>\n",
       "      <td>8</td>\n",
       "      <td>0</td>\n",
       "    </tr>\n",
       "    <tr>\n",
       "      <th>4</th>\n",
       "      <td>185</td>\n",
       "      <td>Centro-oeste</td>\n",
       "      <td>0</td>\n",
       "      <td>1.730613</td>\n",
       "      <td>10101</td>\n",
       "      <td>0</td>\n",
       "      <td>-0.104382</td>\n",
       "      <td>-0.164728</td>\n",
       "      <td>0.468520</td>\n",
       "      <td>-0.583795</td>\n",
       "      <td>1.745902</td>\n",
       "      <td>7</td>\n",
       "      <td>0</td>\n",
       "    </tr>\n",
       "    <tr>\n",
       "      <th>...</th>\n",
       "      <td>...</td>\n",
       "      <td>...</td>\n",
       "      <td>...</td>\n",
       "      <td>...</td>\n",
       "      <td>...</td>\n",
       "      <td>...</td>\n",
       "      <td>...</td>\n",
       "      <td>...</td>\n",
       "      <td>...</td>\n",
       "      <td>...</td>\n",
       "      <td>...</td>\n",
       "      <td>...</td>\n",
       "      <td>...</td>\n",
       "    </tr>\n",
       "    <tr>\n",
       "      <th>39995</th>\n",
       "      <td>48257</td>\n",
       "      <td>Sudeste</td>\n",
       "      <td>9</td>\n",
       "      <td>-1.464416</td>\n",
       "      <td>3968</td>\n",
       "      <td>0</td>\n",
       "      <td>0.542741</td>\n",
       "      <td>0.685784</td>\n",
       "      <td>-0.217498</td>\n",
       "      <td>1.491885</td>\n",
       "      <td>0.182898</td>\n",
       "      <td>7</td>\n",
       "      <td>0</td>\n",
       "    </tr>\n",
       "    <tr>\n",
       "      <th>39996</th>\n",
       "      <td>48369</td>\n",
       "      <td>Centro-oeste</td>\n",
       "      <td>9</td>\n",
       "      <td>0.463949</td>\n",
       "      <td>7897</td>\n",
       "      <td>0</td>\n",
       "      <td>-2.274228</td>\n",
       "      <td>0.217781</td>\n",
       "      <td>-0.232035</td>\n",
       "      <td>0.588915</td>\n",
       "      <td>0.417226</td>\n",
       "      <td>8</td>\n",
       "      <td>1</td>\n",
       "    </tr>\n",
       "    <tr>\n",
       "      <th>39997</th>\n",
       "      <td>48717</td>\n",
       "      <td>Sudeste</td>\n",
       "      <td>9</td>\n",
       "      <td>0.076741</td>\n",
       "      <td>7897</td>\n",
       "      <td>0</td>\n",
       "      <td>-0.820420</td>\n",
       "      <td>-0.045686</td>\n",
       "      <td>0.246019</td>\n",
       "      <td>-0.524125</td>\n",
       "      <td>0.936947</td>\n",
       "      <td>8</td>\n",
       "      <td>0</td>\n",
       "    </tr>\n",
       "    <tr>\n",
       "      <th>39998</th>\n",
       "      <td>48762</td>\n",
       "      <td>Sudeste</td>\n",
       "      <td>9</td>\n",
       "      <td>0.143160</td>\n",
       "      <td>5078</td>\n",
       "      <td>0</td>\n",
       "      <td>-0.536905</td>\n",
       "      <td>-0.509857</td>\n",
       "      <td>-0.353478</td>\n",
       "      <td>-0.936563</td>\n",
       "      <td>0.642490</td>\n",
       "      <td>8</td>\n",
       "      <td>0</td>\n",
       "    </tr>\n",
       "    <tr>\n",
       "      <th>39999</th>\n",
       "      <td>49461</td>\n",
       "      <td>Sudeste</td>\n",
       "      <td>9</td>\n",
       "      <td>-0.079241</td>\n",
       "      <td>7598</td>\n",
       "      <td>0</td>\n",
       "      <td>-0.283571</td>\n",
       "      <td>-1.039683</td>\n",
       "      <td>0.048897</td>\n",
       "      <td>-0.619241</td>\n",
       "      <td>0.348400</td>\n",
       "      <td>8</td>\n",
       "      <td>0</td>\n",
       "    </tr>\n",
       "  </tbody>\n",
       "</table>\n",
       "<p>40000 rows × 13 columns</p>\n",
       "</div>"
      ],
      "text/plain": [
       "          ID CdUfNaturalidade  Grupo_Etario   VrRenda  CdOcupacaoCBO  \\\n",
       "0         10              Sul             0 -0.258278           3048   \n",
       "1         23              nan             0  2.374450           7897   \n",
       "2         85          Sudeste             0 -0.409450  Indeterminado   \n",
       "3        150     Centro-oeste             0 -1.715667           7897   \n",
       "4        185     Centro-oeste             0  1.730613          10101   \n",
       "...      ...              ...           ...       ...            ...   \n",
       "39995  48257          Sudeste             9 -1.464416           3968   \n",
       "39996  48369     Centro-oeste             9  0.463949           7897   \n",
       "39997  48717          Sudeste             9  0.076741           7897   \n",
       "39998  48762          Sudeste             9  0.143160           5078   \n",
       "39999  49461          Sudeste             9 -0.079241           7598   \n",
       "\n",
       "       Capacidade_de_Pagamento_1  Capacidade_de_Pagamento_2  \\\n",
       "0                              0                   0.039955   \n",
       "1                              0                  -0.056944   \n",
       "2                              1                  -0.879312   \n",
       "3                              0                   0.831527   \n",
       "4                              0                  -0.104382   \n",
       "...                          ...                        ...   \n",
       "39995                          0                   0.542741   \n",
       "39996                          0                  -2.274228   \n",
       "39997                          0                  -0.820420   \n",
       "39998                          0                  -0.536905   \n",
       "39999                          0                  -0.283571   \n",
       "\n",
       "       Capacidade_de_Pagamento_3  Capacidade_de_Pagamento_4  \\\n",
       "0                       1.540104                   0.306072   \n",
       "1                       1.290148                  -0.540772   \n",
       "2                       1.220721                   0.466621   \n",
       "3                      -1.406802                  -0.914333   \n",
       "4                      -0.164728                   0.468520   \n",
       "...                          ...                        ...   \n",
       "39995                   0.685784                  -0.217498   \n",
       "39996                   0.217781                  -0.232035   \n",
       "39997                  -0.045686                   0.246019   \n",
       "39998                  -0.509857                  -0.353478   \n",
       "39999                  -1.039683                   0.048897   \n",
       "\n",
       "       Capacidade_de_Pagamento_5  Capacidade_de_Pagamento_6  \\\n",
       "0                      -0.403506                  -1.234926   \n",
       "1                       1.821419                   1.268513   \n",
       "2                      -0.564490                  -0.619880   \n",
       "3                       1.079745                  -1.289548   \n",
       "4                      -0.583795                   1.745902   \n",
       "...                          ...                        ...   \n",
       "39995                   1.491885                   0.182898   \n",
       "39996                   0.588915                   0.417226   \n",
       "39997                  -0.524125                   0.936947   \n",
       "39998                  -0.936563                   0.642490   \n",
       "39999                  -0.619241                   0.348400   \n",
       "\n",
       "       Capacidade_de_Pagamento_7  fl_renovou  \n",
       "0                              8           0  \n",
       "1                              7           0  \n",
       "2                              8           0  \n",
       "3                              8           0  \n",
       "4                              7           0  \n",
       "...                          ...         ...  \n",
       "39995                          7           0  \n",
       "39996                          8           1  \n",
       "39997                          8           0  \n",
       "39998                          8           0  \n",
       "39999                          8           0  \n",
       "\n",
       "[40000 rows x 13 columns]"
      ]
     },
     "execution_count": 4,
     "metadata": {},
     "output_type": "execute_result"
    }
   ],
   "source": [
    "df"
   ]
  },
  {
   "cell_type": "markdown",
   "id": "7b9ca141-d5f0-4ae2-8790-c454a68e9b43",
   "metadata": {},
   "source": [
    "### Scores"
   ]
  },
  {
   "cell_type": "code",
   "execution_count": 9,
   "id": "e2b514a0-3147-45b8-ba03-ab6ac44dfe4b",
   "metadata": {},
   "outputs": [],
   "source": [
    "score_columns = df.columns[df.columns.str.contains('Capacidade')].to_list()"
   ]
  },
  {
   "cell_type": "code",
   "execution_count": 15,
   "id": "ac3b1c6e-06a1-4994-853d-25f07d67de84",
   "metadata": {},
   "outputs": [
    {
     "data": {
      "text/html": [
       "<div>\n",
       "<style scoped>\n",
       "    .dataframe tbody tr th:only-of-type {\n",
       "        vertical-align: middle;\n",
       "    }\n",
       "\n",
       "    .dataframe tbody tr th {\n",
       "        vertical-align: top;\n",
       "    }\n",
       "\n",
       "    .dataframe thead th {\n",
       "        text-align: right;\n",
       "    }\n",
       "</style>\n",
       "<table border=\"1\" class=\"dataframe\">\n",
       "  <thead>\n",
       "    <tr style=\"text-align: right;\">\n",
       "      <th></th>\n",
       "      <th>Capacidade_de_Pagamento_1</th>\n",
       "      <th>Capacidade_de_Pagamento_2</th>\n",
       "      <th>Capacidade_de_Pagamento_3</th>\n",
       "      <th>Capacidade_de_Pagamento_4</th>\n",
       "      <th>Capacidade_de_Pagamento_5</th>\n",
       "      <th>Capacidade_de_Pagamento_6</th>\n",
       "      <th>Capacidade_de_Pagamento_7</th>\n",
       "    </tr>\n",
       "  </thead>\n",
       "  <tbody>\n",
       "    <tr>\n",
       "      <th>count</th>\n",
       "      <td>40000.000000</td>\n",
       "      <td>40000.000000</td>\n",
       "      <td>40000.000000</td>\n",
       "      <td>40000.000000</td>\n",
       "      <td>40000.000000</td>\n",
       "      <td>40000.000000</td>\n",
       "      <td>40000.00000</td>\n",
       "    </tr>\n",
       "    <tr>\n",
       "      <th>mean</th>\n",
       "      <td>0.618550</td>\n",
       "      <td>-0.017391</td>\n",
       "      <td>0.008367</td>\n",
       "      <td>0.002851</td>\n",
       "      <td>-0.006008</td>\n",
       "      <td>0.008746</td>\n",
       "      <td>7.09855</td>\n",
       "    </tr>\n",
       "    <tr>\n",
       "      <th>std</th>\n",
       "      <td>1.861191</td>\n",
       "      <td>0.973639</td>\n",
       "      <td>0.991024</td>\n",
       "      <td>0.992837</td>\n",
       "      <td>0.985354</td>\n",
       "      <td>0.990772</td>\n",
       "      <td>1.57875</td>\n",
       "    </tr>\n",
       "    <tr>\n",
       "      <th>min</th>\n",
       "      <td>0.000000</td>\n",
       "      <td>-5.199338</td>\n",
       "      <td>-5.199338</td>\n",
       "      <td>-5.199338</td>\n",
       "      <td>-5.199338</td>\n",
       "      <td>-5.199338</td>\n",
       "      <td>0.00000</td>\n",
       "    </tr>\n",
       "    <tr>\n",
       "      <th>10%</th>\n",
       "      <td>0.000000</td>\n",
       "      <td>-1.291379</td>\n",
       "      <td>-1.263866</td>\n",
       "      <td>-1.273451</td>\n",
       "      <td>-1.280657</td>\n",
       "      <td>-1.282642</td>\n",
       "      <td>4.00000</td>\n",
       "    </tr>\n",
       "    <tr>\n",
       "      <th>15%</th>\n",
       "      <td>0.000000</td>\n",
       "      <td>-1.041959</td>\n",
       "      <td>-1.018439</td>\n",
       "      <td>-1.030151</td>\n",
       "      <td>-1.030180</td>\n",
       "      <td>-1.051665</td>\n",
       "      <td>5.00000</td>\n",
       "    </tr>\n",
       "    <tr>\n",
       "      <th>25%</th>\n",
       "      <td>0.000000</td>\n",
       "      <td>-0.680394</td>\n",
       "      <td>-0.654675</td>\n",
       "      <td>-0.671689</td>\n",
       "      <td>-0.675104</td>\n",
       "      <td>-0.666616</td>\n",
       "      <td>6.00000</td>\n",
       "    </tr>\n",
       "    <tr>\n",
       "      <th>50%</th>\n",
       "      <td>0.000000</td>\n",
       "      <td>-0.011611</td>\n",
       "      <td>0.003785</td>\n",
       "      <td>-0.001507</td>\n",
       "      <td>-0.013405</td>\n",
       "      <td>0.024663</td>\n",
       "      <td>8.00000</td>\n",
       "    </tr>\n",
       "    <tr>\n",
       "      <th>75%</th>\n",
       "      <td>0.000000</td>\n",
       "      <td>0.649655</td>\n",
       "      <td>0.674370</td>\n",
       "      <td>0.670776</td>\n",
       "      <td>0.666233</td>\n",
       "      <td>0.687117</td>\n",
       "      <td>8.00000</td>\n",
       "    </tr>\n",
       "    <tr>\n",
       "      <th>90%</th>\n",
       "      <td>2.000000</td>\n",
       "      <td>1.246017</td>\n",
       "      <td>1.274051</td>\n",
       "      <td>1.281208</td>\n",
       "      <td>1.270434</td>\n",
       "      <td>1.283831</td>\n",
       "      <td>8.00000</td>\n",
       "    </tr>\n",
       "    <tr>\n",
       "      <th>95%</th>\n",
       "      <td>4.000000</td>\n",
       "      <td>1.615356</td>\n",
       "      <td>1.637521</td>\n",
       "      <td>1.651302</td>\n",
       "      <td>1.642285</td>\n",
       "      <td>1.651727</td>\n",
       "      <td>8.00000</td>\n",
       "    </tr>\n",
       "    <tr>\n",
       "      <th>max</th>\n",
       "      <td>20.000000</td>\n",
       "      <td>5.199338</td>\n",
       "      <td>4.416159</td>\n",
       "      <td>5.199338</td>\n",
       "      <td>4.561206</td>\n",
       "      <td>3.642725</td>\n",
       "      <td>9.00000</td>\n",
       "    </tr>\n",
       "  </tbody>\n",
       "</table>\n",
       "</div>"
      ],
      "text/plain": [
       "       Capacidade_de_Pagamento_1  Capacidade_de_Pagamento_2  \\\n",
       "count               40000.000000               40000.000000   \n",
       "mean                    0.618550                  -0.017391   \n",
       "std                     1.861191                   0.973639   \n",
       "min                     0.000000                  -5.199338   \n",
       "10%                     0.000000                  -1.291379   \n",
       "15%                     0.000000                  -1.041959   \n",
       "25%                     0.000000                  -0.680394   \n",
       "50%                     0.000000                  -0.011611   \n",
       "75%                     0.000000                   0.649655   \n",
       "90%                     2.000000                   1.246017   \n",
       "95%                     4.000000                   1.615356   \n",
       "max                    20.000000                   5.199338   \n",
       "\n",
       "       Capacidade_de_Pagamento_3  Capacidade_de_Pagamento_4  \\\n",
       "count               40000.000000               40000.000000   \n",
       "mean                    0.008367                   0.002851   \n",
       "std                     0.991024                   0.992837   \n",
       "min                    -5.199338                  -5.199338   \n",
       "10%                    -1.263866                  -1.273451   \n",
       "15%                    -1.018439                  -1.030151   \n",
       "25%                    -0.654675                  -0.671689   \n",
       "50%                     0.003785                  -0.001507   \n",
       "75%                     0.674370                   0.670776   \n",
       "90%                     1.274051                   1.281208   \n",
       "95%                     1.637521                   1.651302   \n",
       "max                     4.416159                   5.199338   \n",
       "\n",
       "       Capacidade_de_Pagamento_5  Capacidade_de_Pagamento_6  \\\n",
       "count               40000.000000               40000.000000   \n",
       "mean                   -0.006008                   0.008746   \n",
       "std                     0.985354                   0.990772   \n",
       "min                    -5.199338                  -5.199338   \n",
       "10%                    -1.280657                  -1.282642   \n",
       "15%                    -1.030180                  -1.051665   \n",
       "25%                    -0.675104                  -0.666616   \n",
       "50%                    -0.013405                   0.024663   \n",
       "75%                     0.666233                   0.687117   \n",
       "90%                     1.270434                   1.283831   \n",
       "95%                     1.642285                   1.651727   \n",
       "max                     4.561206                   3.642725   \n",
       "\n",
       "       Capacidade_de_Pagamento_7  \n",
       "count                40000.00000  \n",
       "mean                     7.09855  \n",
       "std                      1.57875  \n",
       "min                      0.00000  \n",
       "10%                      4.00000  \n",
       "15%                      5.00000  \n",
       "25%                      6.00000  \n",
       "50%                      8.00000  \n",
       "75%                      8.00000  \n",
       "90%                      8.00000  \n",
       "95%                      8.00000  \n",
       "max                      9.00000  "
      ]
     },
     "execution_count": 15,
     "metadata": {},
     "output_type": "execute_result"
    }
   ],
   "source": [
    "df[score_columns].describe(percentiles=[.1, .15, .25, .75, .9, .95])"
   ]
  },
  {
   "cell_type": "code",
   "execution_count": 11,
   "id": "d5225b96-8cac-4158-b305-97175df45807",
   "metadata": {},
   "outputs": [
    {
     "data": {
      "image/png": "[encoded data removed]",
      "text/plain": [
       "<Figure size 1080x720 with 9 Axes>"
      ]
     },
     "metadata": {
      "needs_background": "light"
     },
     "output_type": "display_data"
    }
   ],
   "source": [
    "df[score_columns].hist(figsize=(15, 10));"
   ]
  },
  {
   "cell_type": "markdown",
   "id": "8505eb15-bc17-4fb9-8219-8eebb8f8c8fc",
   "metadata": {},
   "source": [
    "Capacidade de pagamento\n",
    "1. Quanto maior o score, menor a capacidade de pagamento\n",
    "2. Quanto maior o score, menor a capacidade de pagamento\n",
    "3. Quanto maior o score, maior a capacidade de pagamento\n",
    "4. Quanto maior o score, maior a capacidade de pagamento\n",
    "5. Quanto maior o score, maior a capacidade de pagamento\n",
    "6. Quanto maior o score, maior a capacidade de pagamento\n",
    "7. Quanto maior o score, maior propensão de ser um perfil digital"
   ]
  },
  {
   "cell_type": "code",
   "execution_count": 16,
   "id": "acc15a4d-e18d-494b-a510-ab73fcbcbc0d",
   "metadata": {},
   "outputs": [
    {
     "data": {
      "text/plain": [
       "['Capacidade_de_Pagamento_1',\n",
       " 'Capacidade_de_Pagamento_2',\n",
       " 'Capacidade_de_Pagamento_3',\n",
       " 'Capacidade_de_Pagamento_4',\n",
       " 'Capacidade_de_Pagamento_5',\n",
       " 'Capacidade_de_Pagamento_6',\n",
       " 'Capacidade_de_Pagamento_7']"
      ]
     },
     "execution_count": 16,
     "metadata": {},
     "output_type": "execute_result"
    }
   ],
   "source": [
    "score_columns"
   ]
  },
  {
   "cell_type": "code",
   "execution_count": 23,
   "id": "3b1b655c-65b6-47fa-9eff-672ebe566553",
   "metadata": {},
   "outputs": [
    {
     "data": {
      "text/plain": [
       "0     0.787375\n",
       "1     0.098750\n",
       "2     0.036425\n",
       "7     0.024775\n",
       "3     0.022850\n",
       "4     0.017125\n",
       "6     0.007475\n",
       "20    0.002650\n",
       "15    0.002575\n",
       "Name: Capacidade_de_Pagamento_1, dtype: float64"
      ]
     },
     "execution_count": 23,
     "metadata": {},
     "output_type": "execute_result"
    }
   ],
   "source": [
    "df['Capacidade_de_Pagamento_1'].value_counts(1)"
   ]
  },
  {
   "cell_type": "code",
   "execution_count": 20,
   "id": "41bef5c4-6d0f-400c-a187-e59862ac9e45",
   "metadata": {},
   "outputs": [
    {
     "data": {
      "text/plain": [
       "fl_renovou\n",
       "0    8274\n",
       "1     231\n",
       "Name: ID, dtype: int64"
      ]
     },
     "execution_count": 20,
     "metadata": {},
     "output_type": "execute_result"
    }
   ],
   "source": [
    "df[df['Capacidade_de_Pagamento_1'] > 0].groupby('fl_renovou')['ID'].count()"
   ]
  },
  {
   "cell_type": "code",
   "execution_count": 25,
   "id": "e0665a7d-7b43-4318-a377-8f355a2acd3c",
   "metadata": {},
   "outputs": [
    {
     "data": {
      "text/plain": [
       "1     93\n",
       "2     48\n",
       "7     32\n",
       "3     29\n",
       "4     15\n",
       "6      9\n",
       "20     3\n",
       "15     2\n",
       "Name: Capacidade_de_Pagamento_1, dtype: int64"
      ]
     },
     "execution_count": 25,
     "metadata": {},
     "output_type": "execute_result"
    }
   ],
   "source": [
    "df[(df['Capacidade_de_Pagamento_1'] > 0) & (df['fl_renovou'] == 1)]['Capacidade_de_Pagamento_1'].value_counts()"
   ]
  },
  {
   "cell_type": "code",
   "execution_count": 27,
   "id": "8661ee4d-d2bc-44da-9560-faed1ad01907",
   "metadata": {},
   "outputs": [
    {
     "data": {
      "text/plain": [
       "8    0.623575\n",
       "5    0.108550\n",
       "4    0.071550\n",
       "7    0.063450\n",
       "6    0.059175\n",
       "9    0.045075\n",
       "3    0.024250\n",
       "0    0.002200\n",
       "2    0.001200\n",
       "1    0.000975\n",
       "Name: Capacidade_de_Pagamento_7, dtype: float64"
      ]
     },
     "execution_count": 27,
     "metadata": {},
     "output_type": "execute_result"
    }
   ],
   "source": [
    "df['Capacidade_de_Pagamento_7'].value_counts(1)"
   ]
  },
  {
   "cell_type": "code",
   "execution_count": 40,
   "id": "6ab50c69-6b0d-4ca3-a75c-18b3661701df",
   "metadata": {},
   "outputs": [],
   "source": [
    "df_aux = df[(df['Capacidade_de_Pagamento_7'] >= 7)]"
   ]
  },
  {
   "cell_type": "code",
   "execution_count": 41,
   "id": "6267e216-315d-42d5-9903-40c6e81f1cec",
   "metadata": {},
   "outputs": [
    {
     "data": {
      "text/html": [
       "<div>\n",
       "<style scoped>\n",
       "    .dataframe tbody tr th:only-of-type {\n",
       "        vertical-align: middle;\n",
       "    }\n",
       "\n",
       "    .dataframe tbody tr th {\n",
       "        vertical-align: top;\n",
       "    }\n",
       "\n",
       "    .dataframe thead th {\n",
       "        text-align: right;\n",
       "    }\n",
       "</style>\n",
       "<table border=\"1\" class=\"dataframe\">\n",
       "  <thead>\n",
       "    <tr style=\"text-align: right;\">\n",
       "      <th>fl_renovou</th>\n",
       "      <th>Capacidade_de_Pagamento_7</th>\n",
       "      <th>0</th>\n",
       "      <th>1</th>\n",
       "    </tr>\n",
       "  </thead>\n",
       "  <tbody>\n",
       "    <tr>\n",
       "      <th>0</th>\n",
       "      <td>7</td>\n",
       "      <td>2465</td>\n",
       "      <td>73</td>\n",
       "    </tr>\n",
       "    <tr>\n",
       "      <th>1</th>\n",
       "      <td>8</td>\n",
       "      <td>24143</td>\n",
       "      <td>800</td>\n",
       "    </tr>\n",
       "    <tr>\n",
       "      <th>2</th>\n",
       "      <td>9</td>\n",
       "      <td>1741</td>\n",
       "      <td>62</td>\n",
       "    </tr>\n",
       "  </tbody>\n",
       "</table>\n",
       "</div>"
      ],
      "text/plain": [
       "fl_renovou  Capacidade_de_Pagamento_7      0    1\n",
       "0                                   7   2465   73\n",
       "1                                   8  24143  800\n",
       "2                                   9   1741   62"
      ]
     },
     "execution_count": 41,
     "metadata": {},
     "output_type": "execute_result"
    }
   ],
   "source": [
    "df_aux.groupby(['Capacidade_de_Pagamento_7', 'fl_renovou']).ID.count().unstack().reset_index()"
   ]
  },
  {
   "cell_type": "code",
   "execution_count": 44,
   "id": "6e78a620-55de-4b71-927b-70e438ccecdd",
   "metadata": {},
   "outputs": [
    {
     "data": {
      "image/png": "[encoded data removed]",
      "text/plain": [
       "<Figure size 432x288 with 1 Axes>"
      ]
     },
     "metadata": {
      "needs_background": "light"
     },
     "output_type": "display_data"
    }
   ],
   "source": [
    "sns.countplot('Capacidade_de_Pagamento_7', data=df[df['fl_renovou'] == 0]);"
   ]
  },
  {
   "cell_type": "code",
   "execution_count": 45,
   "id": "4d3a94eb-12db-42aa-87f7-6a9c26e5f26f",
   "metadata": {},
   "outputs": [
    {
     "data": {
      "image/png": "[encoded data removed]",
      "text/plain": [
       "<Figure size 432x288 with 1 Axes>"
      ]
     },
     "metadata": {
      "needs_background": "light"
     },
     "output_type": "display_data"
    }
   ],
   "source": [
    "sns.countplot('Capacidade_de_Pagamento_7', data=df[df['fl_renovou'] == 1]);"
   ]
  },
  {
   "cell_type": "markdown",
   "id": "c8aa5c89-f1af-471a-856d-f6995a53602c",
   "metadata": {},
   "source": [
    "* Anotações\n",
    "    * Na CP1, a maioria (79%) dos dados é 0. Reunindo 0, 1 e 2, passam de 90% dos dados.\n",
    "        * Considerando que quanto menor o valor, maior a capacidade de pagamento.\n",
    "    * Na CP7, a maioria tem score 8 (62%) e se considerarmos altos os valores 7, 8 e 9, chega a 73%. (Representa 73% das pessoas que não renovaram)\n",
    "        * Considerando que quanto maior o score, maior propensão de ser um perfil digital \n",
    "        * Ou seja, 73% dos clientes tem propensão a ter perfil digital.\n",
    "        * Trabalhar a ideia de inserir a BV na vida digital desse cliente durante o ano pode ser uma boa \n",
    "        * Comunicações periódicas falando sobre carros, seguros e sobre os benefícios que esse seguro pode ter.  \n",
    "        * Ligações de telemarketing não são tão bem aceitas."
   ]
  },
  {
   "cell_type": "markdown",
   "id": "81519a94-cef3-4842-b10d-2a33be92e134",
   "metadata": {},
   "source": [
    "### Naturalidade"
   ]
  },
  {
   "cell_type": "code",
   "execution_count": 5,
   "id": "39aefc4f-14b5-462a-8baf-ca4189908c7f",
   "metadata": {},
   "outputs": [
    {
     "data": {
      "text/plain": [
       "Sudeste         0.467750\n",
       "Sul             0.211475\n",
       "Nordeste        0.137750\n",
       "Centro-oeste    0.079675\n",
       "Norte           0.055575\n",
       "nan             0.047775\n",
       "Name: CdUfNaturalidade, dtype: float64"
      ]
     },
     "execution_count": 5,
     "metadata": {},
     "output_type": "execute_result"
    }
   ],
   "source": [
    "df['CdUfNaturalidade'].value_counts(1)"
   ]
  },
  {
   "cell_type": "code",
   "execution_count": 6,
   "id": "be594f20-b2b4-40c4-9f05-11e1ff370b9c",
   "metadata": {},
   "outputs": [
    {
     "data": {
      "text/html": [
       "<div>\n",
       "<style scoped>\n",
       "    .dataframe tbody tr th:only-of-type {\n",
       "        vertical-align: middle;\n",
       "    }\n",
       "\n",
       "    .dataframe tbody tr th {\n",
       "        vertical-align: top;\n",
       "    }\n",
       "\n",
       "    .dataframe thead th {\n",
       "        text-align: right;\n",
       "    }\n",
       "</style>\n",
       "<table border=\"1\" class=\"dataframe\">\n",
       "  <thead>\n",
       "    <tr style=\"text-align: right;\">\n",
       "      <th>fl_renovou</th>\n",
       "      <th>CdUfNaturalidade</th>\n",
       "      <th>0</th>\n",
       "      <th>1</th>\n",
       "    </tr>\n",
       "  </thead>\n",
       "  <tbody>\n",
       "    <tr>\n",
       "      <th>0</th>\n",
       "      <td>Centro-oeste</td>\n",
       "      <td>3107</td>\n",
       "      <td>80</td>\n",
       "    </tr>\n",
       "    <tr>\n",
       "      <th>1</th>\n",
       "      <td>Nordeste</td>\n",
       "      <td>5375</td>\n",
       "      <td>135</td>\n",
       "    </tr>\n",
       "    <tr>\n",
       "      <th>2</th>\n",
       "      <td>Norte</td>\n",
       "      <td>2153</td>\n",
       "      <td>70</td>\n",
       "    </tr>\n",
       "    <tr>\n",
       "      <th>3</th>\n",
       "      <td>Sudeste</td>\n",
       "      <td>17954</td>\n",
       "      <td>756</td>\n",
       "    </tr>\n",
       "    <tr>\n",
       "      <th>4</th>\n",
       "      <td>Sul</td>\n",
       "      <td>8235</td>\n",
       "      <td>224</td>\n",
       "    </tr>\n",
       "    <tr>\n",
       "      <th>5</th>\n",
       "      <td>nan</td>\n",
       "      <td>1872</td>\n",
       "      <td>39</td>\n",
       "    </tr>\n",
       "  </tbody>\n",
       "</table>\n",
       "</div>"
      ],
      "text/plain": [
       "fl_renovou CdUfNaturalidade      0    1\n",
       "0              Centro-oeste   3107   80\n",
       "1                  Nordeste   5375  135\n",
       "2                     Norte   2153   70\n",
       "3                   Sudeste  17954  756\n",
       "4                       Sul   8235  224\n",
       "5                       nan   1872   39"
      ]
     },
     "execution_count": 6,
     "metadata": {},
     "output_type": "execute_result"
    }
   ],
   "source": [
    "df.groupby(['CdUfNaturalidade', 'fl_renovou'])['ID'].count().unstack().reset_index()"
   ]
  },
  {
   "cell_type": "code",
   "execution_count": 7,
   "id": "4184722e-753f-4435-aadb-78218db9797f",
   "metadata": {},
   "outputs": [
    {
     "data": {
      "image/png": "[encoded data removed]",
      "text/plain": [
       "<Figure size 432x288 with 1 Axes>"
      ]
     },
     "metadata": {
      "needs_background": "light"
     },
     "output_type": "display_data"
    }
   ],
   "source": [
    "sns.countplot('CdUfNaturalidade', hue='fl_renovou', data=df);"
   ]
  },
  {
   "cell_type": "code",
   "execution_count": null,
   "id": "d5060915-e239-4992-9839-f49a794fa70d",
   "metadata": {},
   "outputs": [],
   "source": [
    "df.groupby(['CdUfNaturalidade', 'fl_renovou'])['ID'].count().unstack().reset_index()"
   ]
  },
  {
   "cell_type": "code",
   "execution_count": null,
   "id": "199703c2-5e67-40c7-8ea0-1b2b19ec53d2",
   "metadata": {},
   "outputs": [],
   "source": []
  }
 ],
 "metadata": {
  "kernelspec": {
   "display_name": "Python (Local)",
   "language": "python",
   "name": "local-base"
  },
  "language_info": {
   "codemirror_mode": {
    "name": "ipython",
    "version": 3
   },
   "file_extension": ".py",
   "mimetype": "text/x-python",
   "name": "python",
   "nbconvert_exporter": "python",
   "pygments_lexer": "ipython3",
   "version": "3.7.12"
  }
 },
 "nbformat": 4,
 "nbformat_minor": 5
}
