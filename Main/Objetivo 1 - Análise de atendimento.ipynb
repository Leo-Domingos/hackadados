{
 "cells": [
  {
   "cell_type": "markdown",
   "id": "a4a1f55f-0411-4811-945d-9f2fec67859f",
   "metadata": {},
   "source": [
    "# Primeira abordagem\n",
    "### Perfil Digital\n",
    "Aqui estamos analisando apenas pessoas propensas a possuírem um perfil digital\n",
    "\n",
    "Principais conclusões:\n",
    "- Elas priorizam a objetividade\n",
    "- Pouco contato pelo telefone"
   ]
  },
  {
   "cell_type": "code",
   "execution_count": 5,
   "id": "36d0094b-07b8-47be-a37d-0a8ae6954857",
   "metadata": {},
   "outputs": [],
   "source": [
    "# The following two lines are only necessary to run once.\n",
    "# Comment out otherwise for speed-up.\n",
    "from google.cloud.bigquery import Client, QueryJobConfig\n",
    "client = Client()\n",
    "\n",
    "query = \"\"\"SELECT fl_renovou,\n",
    "NV_FC_CPC___RESPONSAVEL_3M,\n",
    "NV_BP1_APRESENTACAO_CORRETA_3M,\n",
    "NV_FC_CONTATO_UTIL_3M,\n",
    "NV_BP10_ENCERRAMENTO_DA_LIGACAO_3M,\n",
    "NV_C3_INFORMA_O_MOTIVO_DA_CHAMADA_3M,\n",
    "NV_D1_EMPATIA_3M,\n",
    "GC_ISENCAOMORAMULTA_3M,\n",
    "GC_AUSENCIARENDA_3M,\n",
    "NV_BP2_INFORMAR_ATRASO_E_VALOR_3M,\n",
    "PRODUTO_VEICULO_3M,\n",
    "NV_BP6_GERA_URGENCIA_3M,\n",
    "NV_C1_PROTOCOLO_DE_SEGURANCA_3M,\n",
    "MOT_INFORMACAO_3M,\n",
    "MOT_SERVICOS_3M,\n",
    "NV_CX_PID_3M,\n",
    "CX_CORTESIA_3M,\n",
    "NV_C2_GRAVACAO_DA_LIGACAO_3M,\n",
    "NV_D2_OBJETIVIDADE_3M,\n",
    "NV_CX_TITULAR_3M,\n",
    "NV_FC_PROMESSA_DE_PAGAMENTO_3M,\n",
    "CX_PESQUISA_SATISFACAO_3M,\n",
    "CD_CARTAO_3M,\n",
    "NV_DC3_NAO_E_O_RESPONSAVEL_DO_FINANCIAMENTO_3M,\n",
    "NV_P1_PAGAMENTO_PARCELA_3M,\n",
    "NV_CX_LIGAR_DE_VOLTA_3M,\n",
    "NV_CX_RECHAMADAS_6M,\n",
    "CX_USABILIDADE_6M,\n",
    "NV_CX_DIRECIONAMENTO_OUTRO_CANAL_3M,\n",
    "NV_CX_TRANSFERENCIA_6M,\n",
    "GC_OFERTANEGOCIACAO_3M,\n",
    "CD_BOLETO_3M,\n",
    "P6_RENEGPEDEC_6M,\n",
    "NV_CD_BOLETO_2DA_VIA_6M,\n",
    "CX_CLIENTE_NAOCOMPREENDE_3M,\n",
    "PL_SEM_CONDICOES_3M,\n",
    "CX_CANCELAMENTO_6M,\n",
    "CD_SEGURO_6M,\n",
    "NV_DC10_CLIENTE_ALEGA_PAGAMENTO_3M,\n",
    "NV_FC_NEGOCIACAO_COM_SUCESSO_3M,\n",
    "NV_DC1_CLIENTE_NAO_ESTA_COM_O_VALOR_EM_MAOS_6M,\n",
    "NV_P3_QUITACAO_6M,\n",
    "MOT_SERVICOS_3M,\n",
    "CX_BUSCA_INFORMACOES_6M,\n",
    "NV_BP4_INFORMA_O_DESCONTO_3M,\n",
    "CD_QUITACAO_6M,\n",
    "NV_P9_PAGAMENTO_PARCIAL__FLEXIBILIDADE__6M,\n",
    "NV_CX_ATENDIMENTO_DIFERENCIADO_6M,\n",
    "CX_OFERTA_6M\n",
    "FROM `hacka-1.dataset.view_dados_hacka` \n",
    "WHERE Sub_Produto in ('CDC VEICULOS DE PASSEIO','PRE APROVADO CDC VEICULOS DE PASSEIO','REFINANCIAMENTO VEICULOS DE PASSEIO')\n",
    "AND QtParcelas in (24, 36, 48, 54, 60)\n",
    "AND QtCilindradaVeiculo > 995\n",
    "AND QtCilindradaVeiculo < 3000\n",
    "AND QtQuilometragemVeiculo < 150000\n",
    "AND AaFabricacaoVeiculo >= 2008\n",
    "AND AaFabricacaoVeiculo <= 2019\n",
    "AND Capacidade_de_Pagamento_7 in (7,8,9)\"\"\"\n",
    "job = client.query(query)\n",
    "df = job.to_dataframe()"
   ]
  },
  {
   "cell_type": "code",
   "execution_count": 6,
   "id": "10bd986c-1be2-4705-9034-df22f0dcb462",
   "metadata": {},
   "outputs": [],
   "source": [
    "import pandas as pd"
   ]
  },
  {
   "cell_type": "code",
   "execution_count": 7,
   "id": "65685b44-ace2-432b-a6d8-70e0565176f1",
   "metadata": {},
   "outputs": [
    {
     "data": {
      "text/plain": [
       "(29966, 49)"
      ]
     },
     "execution_count": 7,
     "metadata": {},
     "output_type": "execute_result"
    }
   ],
   "source": [
    "df.shape"
   ]
  },
  {
   "cell_type": "markdown",
   "id": "aec1efe1-7c76-410b-bc65-6a34edbf52db",
   "metadata": {
    "tags": []
   },
   "source": [
    "### Análise do tipo de chamada"
   ]
  },
  {
   "cell_type": "code",
   "execution_count": 8,
   "id": "f15dd7f0-c953-4c47-b8e9-9319af4f90ed",
   "metadata": {},
   "outputs": [],
   "source": [
    "df_melt = df.fillna(0).melt(['fl_renovou'], var_name='call',  value_name='vals')"
   ]
  },
  {
   "cell_type": "code",
   "execution_count": 9,
   "id": "7dc16fb1-e7ef-45e5-a9ba-d291bef9d38e",
   "metadata": {},
   "outputs": [],
   "source": [
    "df_renovou = df_melt.loc[df_melt.fl_renovou == 1].groupby(by='call').mean().reset_index().sort_values(by= 'call')"
   ]
  },
  {
   "cell_type": "code",
   "execution_count": 10,
   "id": "e605ee4d-de54-40e3-9c1a-7867b1a3ceb9",
   "metadata": {},
   "outputs": [],
   "source": [
    "df_geral = df_melt.loc[df_melt.fl_renovou == 0].groupby(by='call').mean().reset_index().sort_values(by= 'call')"
   ]
  },
  {
   "cell_type": "code",
   "execution_count": 11,
   "id": "9a44e85c-4cb6-4105-beef-fb3007a75e9c",
   "metadata": {},
   "outputs": [],
   "source": [
    "df_final = pd.merge(df_geral, df_renovou, on = 'call')"
   ]
  },
  {
   "cell_type": "code",
   "execution_count": 12,
   "id": "d4923b8a-0c11-47a6-8468-b4909c028a74",
   "metadata": {},
   "outputs": [
    {
     "data": {
      "text/html": [
       "<div>\n",
       "<style scoped>\n",
       "    .dataframe tbody tr th:only-of-type {\n",
       "        vertical-align: middle;\n",
       "    }\n",
       "\n",
       "    .dataframe tbody tr th {\n",
       "        vertical-align: top;\n",
       "    }\n",
       "\n",
       "    .dataframe thead th {\n",
       "        text-align: right;\n",
       "    }\n",
       "</style>\n",
       "<table border=\"1\" class=\"dataframe\">\n",
       "  <thead>\n",
       "    <tr style=\"text-align: right;\">\n",
       "      <th></th>\n",
       "      <th>call</th>\n",
       "      <th>fl_renovou_x</th>\n",
       "      <th>vals_x</th>\n",
       "      <th>fl_renovou_y</th>\n",
       "      <th>vals_y</th>\n",
       "      <th>perc</th>\n",
       "    </tr>\n",
       "  </thead>\n",
       "  <tbody>\n",
       "    <tr>\n",
       "      <th>34</th>\n",
       "      <td>NV_D2_OBJETIVIDADE_3M</td>\n",
       "      <td>0.0</td>\n",
       "      <td>0.108182</td>\n",
       "      <td>1.0</td>\n",
       "      <td>0.133684</td>\n",
       "      <td>1.235738</td>\n",
       "    </tr>\n",
       "    <tr>\n",
       "      <th>28</th>\n",
       "      <td>NV_CX_LIGAR_DE_VOLTA_3M</td>\n",
       "      <td>0.0</td>\n",
       "      <td>0.024194</td>\n",
       "      <td>1.0</td>\n",
       "      <td>0.021053</td>\n",
       "      <td>0.870175</td>\n",
       "    </tr>\n",
       "    <tr>\n",
       "      <th>32</th>\n",
       "      <td>NV_CX_TRANSFERENCIA_6M</td>\n",
       "      <td>0.0</td>\n",
       "      <td>0.037359</td>\n",
       "      <td>1.0</td>\n",
       "      <td>0.029474</td>\n",
       "      <td>0.788938</td>\n",
       "    </tr>\n",
       "    <tr>\n",
       "      <th>2</th>\n",
       "      <td>CD_QUITACAO_6M</td>\n",
       "      <td>0.0</td>\n",
       "      <td>0.018162</td>\n",
       "      <td>1.0</td>\n",
       "      <td>0.013684</td>\n",
       "      <td>0.753437</td>\n",
       "    </tr>\n",
       "    <tr>\n",
       "      <th>10</th>\n",
       "      <td>CX_USABILIDADE_6M</td>\n",
       "      <td>0.0</td>\n",
       "      <td>0.038014</td>\n",
       "      <td>1.0</td>\n",
       "      <td>0.027368</td>\n",
       "      <td>0.719966</td>\n",
       "    </tr>\n",
       "  </tbody>\n",
       "</table>\n",
       "</div>"
      ],
      "text/plain": [
       "                       call  fl_renovou_x    vals_x  fl_renovou_y    vals_y  \\\n",
       "34    NV_D2_OBJETIVIDADE_3M           0.0  0.108182           1.0  0.133684   \n",
       "28  NV_CX_LIGAR_DE_VOLTA_3M           0.0  0.024194           1.0  0.021053   \n",
       "32   NV_CX_TRANSFERENCIA_6M           0.0  0.037359           1.0  0.029474   \n",
       "2            CD_QUITACAO_6M           0.0  0.018162           1.0  0.013684   \n",
       "10        CX_USABILIDADE_6M           0.0  0.038014           1.0  0.027368   \n",
       "\n",
       "        perc  \n",
       "34  1.235738  \n",
       "28  0.870175  \n",
       "32  0.788938  \n",
       "2   0.753437  \n",
       "10  0.719966  "
      ]
     },
     "execution_count": 12,
     "metadata": {},
     "output_type": "execute_result"
    }
   ],
   "source": [
    "df_final['perc'] = df_final.vals_y/df_final.vals_x\n",
    "df_final.sort_values(by= 'perc', ascending = False).head()"
   ]
  },
  {
   "cell_type": "markdown",
   "id": "07a4f6a5-42d4-4599-bdac-3cb916b4e24c",
   "metadata": {},
   "source": [
    "Ligações com objetividade são mais frequentes entre os que renovaram o seguro"
   ]
  },
  {
   "cell_type": "markdown",
   "id": "0dc741da-0234-4e9b-839d-986cfbc6c428",
   "metadata": {},
   "source": [
    "### Análise de quantidade de chamadas"
   ]
  },
  {
   "cell_type": "code",
   "execution_count": 13,
   "id": "22318dd5-6d42-43ab-b257-c3d86142087e",
   "metadata": {},
   "outputs": [],
   "source": [
    "df_call = df.loc[:,list(df.columns)[1:]]"
   ]
  },
  {
   "cell_type": "code",
   "execution_count": 14,
   "id": "2abcfcab-d461-47cb-8a58-fd70cdd9f3c0",
   "metadata": {},
   "outputs": [],
   "source": [
    "df_total_calls = pd.concat([df.fl_renovou,df_call.sum(axis = 1)], axis = 1)"
   ]
  },
  {
   "cell_type": "markdown",
   "id": "aa361c1b-eaba-4e74-9c01-abcab71c3269",
   "metadata": {},
   "source": [
    "Percentual de pessoas que receberam menos de 6 chamadas e não renovaram"
   ]
  },
  {
   "cell_type": "code",
   "execution_count": 15,
   "id": "7162b75e-d141-46f8-9910-d87405584a02",
   "metadata": {},
   "outputs": [
    {
     "data": {
      "text/plain": [
       "0.8402950096498484"
      ]
     },
     "execution_count": 15,
     "metadata": {},
     "output_type": "execute_result"
    }
   ],
   "source": [
    "len(df_total_calls.loc[df_total_calls.fl_renovou == 0].loc[df_total_calls[0] < 6].index)/len(df_total_calls.loc[df_total_calls.fl_renovou == 0].index)"
   ]
  },
  {
   "cell_type": "markdown",
   "id": "59cfa48e-4740-4941-b8a6-412a3346be11",
   "metadata": {},
   "source": [
    "Percentual de pessoas que renovaram e receberam menos de 6 chamadas"
   ]
  },
  {
   "cell_type": "code",
   "execution_count": 16,
   "id": "622bbf2c-f571-48bf-a99d-2bf8bf979333",
   "metadata": {},
   "outputs": [
    {
     "data": {
      "text/plain": [
       "0.9021052631578947"
      ]
     },
     "execution_count": 16,
     "metadata": {},
     "output_type": "execute_result"
    }
   ],
   "source": [
    "len(df_total_calls.loc[df_total_calls.fl_renovou == 1].loc[df_total_calls[0] < 6].index)/len(df_total_calls.loc[df_total_calls.fl_renovou == 1].index)"
   ]
  },
  {
   "cell_type": "code",
   "execution_count": 17,
   "id": "bed34d10-bf49-4c9e-9397-7b20c88f0a8d",
   "metadata": {},
   "outputs": [
    {
     "data": {
      "text/plain": [
       "(array([729,  67,  21,  12,  15,  13,   6,  10,   4,   6,   5,   5,   3,\n",
       "          1,   3,   3,   0,   3,   0,   1,   0,   3,   3,   0,   0,   3,\n",
       "          2,   2,   0,   2,   3,   0,   0,   1,   1,   1,   0,   1,   0,\n",
       "          0,   0,   0,   0,   0,   0,   0,   0,   1,   0,   1,   1,   1,\n",
       "          1,   0,   0,   0,   0,   0,   1,   1,   0,   0,   1,   0,   1,\n",
       "          1,   0,   0,   1,   0,   1,   0,   1,   1,   0,   1,   0,   0,\n",
       "          0,   0,   0,   0,   0,   0,   0,   0,   0,   0,   0,   0,   0,\n",
       "          1,   1,   0,   0,   0,   0,   0,   1,   0,   0,   0,   0,   0,\n",
       "          0,   0,   0,   0,   0,   0,   0,   1,   1,   0,   0,   0,   1]),\n",
       " array([  0.,   1.,   2.,   3.,   4.,   5.,   6.,   7.,   8.,   9.,  10.,\n",
       "         11.,  12.,  13.,  14.,  15.,  16.,  17.,  18.,  19.,  20.,  21.,\n",
       "         22.,  23.,  24.,  25.,  26.,  27.,  28.,  29.,  30.,  31.,  32.,\n",
       "         33.,  34.,  35.,  36.,  37.,  38.,  39.,  40.,  41.,  42.,  43.,\n",
       "         44.,  45.,  46.,  47.,  48.,  49.,  50.,  51.,  52.,  53.,  54.,\n",
       "         55.,  56.,  57.,  58.,  59.,  60.,  61.,  62.,  63.,  64.,  65.,\n",
       "         66.,  67.,  68.,  69.,  70.,  71.,  72.,  73.,  74.,  75.,  76.,\n",
       "         77.,  78.,  79.,  80.,  81.,  82.,  83.,  84.,  85.,  86.,  87.,\n",
       "         88.,  89.,  90.,  91.,  92.,  93.,  94.,  95.,  96.,  97.,  98.,\n",
       "         99., 100., 101., 102., 103., 104., 105., 106., 107., 108., 109.,\n",
       "        110., 111., 112., 113., 114., 115., 116., 117.]))"
      ]
     },
     "execution_count": 17,
     "metadata": {},
     "output_type": "execute_result"
    }
   ],
   "source": [
    "import numpy as np\n",
    "np.histogram(df_total_calls.loc[df_total_calls.fl_renovou == 1][0], bins = 117)"
   ]
  }
 ],
 "metadata": {
  "kernelspec": {
   "display_name": "Python (Local)",
   "language": "python",
   "name": "local-base"
  },
  "language_info": {
   "codemirror_mode": {
    "name": "ipython",
    "version": 3
   },
   "file_extension": ".py",
   "mimetype": "text/x-python",
   "name": "python",
   "nbconvert_exporter": "python",
   "pygments_lexer": "ipython3",
   "version": "3.7.12"
  }
 },
 "nbformat": 4,
 "nbformat_minor": 5
}
