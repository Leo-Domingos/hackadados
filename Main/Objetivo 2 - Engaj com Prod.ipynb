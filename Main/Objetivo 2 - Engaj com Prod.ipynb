{
 "cells": [
  {
   "cell_type": "markdown",
   "id": "57eb7efa-702d-4d8c-916c-bebaeb211bd8",
   "metadata": {},
   "source": [
    "# Segunda abordagem\n",
    "### Relação com outros produtos do banco\n",
    "Aqui analisamos toda a base que se encaixa nos filtros anteriores, possuindo perfil digital ou não"
   ]
  },
  {
   "cell_type": "code",
   "execution_count": null,
   "id": "959afb20-9049-4cb8-ab09-67f3636c247e",
   "metadata": {},
   "outputs": [],
   "source": [
    "# The following two lines are only necessary to run once.\n",
    "# Comment out otherwise for speed-up.\n",
    "from google.cloud.bigquery import Client, QueryJobConfig\n",
    "import warnings\n",
    "import pandas as pd\n",
    "warnings.simplefilter(action='ignore', category=FutureWarning)\n",
    "pd.options.mode.chained_assignment = None\n",
    "\n",
    "client = Client()\n",
    "\n",
    "query = \"\"\"SELECT *\n",
    "FROM `hacka-1.dataset.view_dados_hacka`\n",
    "WHERE Sub_Produto in ('CDC VEICULOS DE PASSEIO','PRE APROVADO CDC VEICULOS DE PASSEIO','REFINANCIAMENTO VEICULOS DE PASSEIO')\n",
    "AND QtParcelas in (24, 36, 48, 54, 60)\n",
    "AND QtCilindradaVeiculo > 995\n",
    "AND QtCilindradaVeiculo < 3000\n",
    "AND QtQuilometragemVeiculo < 150000\n",
    "AND AaFabricacaoVeiculo >= 2008\n",
    "AND AaFabricacaoVeiculo <= 2019\"\"\"\n",
    "job = client.query(query)\n",
    "df = job.to_dataframe()"
   ]
  },
  {
   "cell_type": "code",
   "execution_count": null,
   "id": "5e4faddf-0230-40dc-9a4b-1380dabdafcc",
   "metadata": {},
   "outputs": [],
   "source": [
    "colunas = ['tempo_desde_primeiro_contrato',\n",
    "'tempo_desde_ultimo_contrato',\n",
    "'QTD_SEGURO',\n",
    "'QTD_CP_CONSIGNADO',\n",
    "'QTD_CDCCG',\n",
    "'QTD_CONTA_DIGITAL',\n",
    "'QTD_CARTAO',\n",
    "'QTD_CP',\n",
    "'QTD_OUTROS',\n",
    "'flmat30conta',\n",
    "'flmat60conta',\n",
    "'flmat90conta',\n",
    "'flmau30conta',\n",
    "'flmau60conta',\n",
    "'flmau90conta',\n",
    "'fl_renovou',\n",
    "'CdUfNaturalidade',\n",
    "'Grupo_Etario',\n",
    "'VrRenda',\n",
    "'CdOcupacaoCBO',\n",
    "'Capacidade_de_Pagamento_1',\n",
    "'Capacidade_de_Pagamento_2',\n",
    "'Capacidade_de_Pagamento_3',\n",
    "'Capacidade_de_Pagamento_4',\n",
    "'Capacidade_de_Pagamento_5',\n",
    "'Capacidade_de_Pagamento_6',\n",
    "'Capacidade_de_Pagamento_7']\n",
    "df_red = df[colunas]"
   ]
  },
  {
   "cell_type": "code",
   "execution_count": null,
   "id": "c866ac50-5514-4f49-b848-fd576245b2c6",
   "metadata": {},
   "outputs": [],
   "source": [
    "from sklearn.preprocessing import QuantileTransformer \n",
    "\n",
    "new_transf = QuantileTransformer(output_distribution='normal').fit_transform(df_red.tempo_desde_primeiro_contrato.values.reshape(-1, 1))\n",
    "df_red.tempo_desde_primeiro_contrato = new_transf\n",
    "\n",
    "new_transf = QuantileTransformer(output_distribution='normal').fit_transform(df_red.tempo_desde_ultimo_contrato.values.reshape(-1, 1))\n",
    "df_red.tempo_desde_ultimo_contrato = new_transf"
   ]
  },
  {
   "cell_type": "code",
   "execution_count": null,
   "id": "ef7eac4d-97ae-416c-85c3-c1584bacb122",
   "metadata": {},
   "outputs": [],
   "source": [
    "NUM_COLS = [\n",
    "    'tempo_desde_primeiro_contrato','tempo_desde_ultimo_contrato',\n",
    "    'QTD_CP_CONSIGNADO','QTD_CDCCG','QTD_CONTA_DIGITAL',\n",
    "    'QTD_CARTAO','QTD_OUTROS','flmat30conta', 'flmat60conta', \n",
    "    'flmat90conta', 'flmau30conta', 'flmau60conta', 'flmau90conta',\n",
    "    'Grupo_Etario','VrRenda', 'Capacidade_de_Pagamento_1', \n",
    "    'Capacidade_de_Pagamento_2', 'Capacidade_de_Pagamento_3', \n",
    "    'Capacidade_de_Pagamento_4', 'Capacidade_de_Pagamento_5', \n",
    "    'Capacidade_de_Pagamento_6', 'Capacidade_de_Pagamento_7'\n",
    "]\n",
    "\n",
    "CAT_COLS = [\n",
    "    'QTD_SEGURO','CdUfNaturalidade','CdOcupacaoCBO'\n",
    "]\n",
    "\n",
    "TARG_COL = ['fl_renovou']"
   ]
  },
  {
   "cell_type": "code",
   "execution_count": null,
   "id": "d2b42f74-2661-40ad-b7a5-4e7a4be2b872",
   "metadata": {},
   "outputs": [],
   "source": [
    "for col in ['flmat30conta', 'flmat60conta', 'flmat90conta', 'flmau30conta', 'flmau60conta', 'flmau90conta']:\n",
    "    df_red.loc[df_red[col].isna(),col] = 0"
   ]
  },
  {
   "cell_type": "code",
   "execution_count": null,
   "id": "a12816e0-3e4b-4180-bc7d-8b9d5ea39bb7",
   "metadata": {},
   "outputs": [
    {
     "data": {
      "text/html": [
       "<div>\n",
       "<style scoped>\n",
       "    .dataframe tbody tr th:only-of-type {\n",
       "        vertical-align: middle;\n",
       "    }\n",
       "\n",
       "    .dataframe tbody tr th {\n",
       "        vertical-align: top;\n",
       "    }\n",
       "\n",
       "    .dataframe thead th {\n",
       "        text-align: right;\n",
       "    }\n",
       "</style>\n",
       "<table border=\"1\" class=\"dataframe\">\n",
       "  <thead>\n",
       "    <tr style=\"text-align: right;\">\n",
       "      <th></th>\n",
       "      <th>QTD_SEGURO_1</th>\n",
       "      <th>QTD_SEGURO_10</th>\n",
       "      <th>QTD_SEGURO_11</th>\n",
       "      <th>QTD_SEGURO_12</th>\n",
       "      <th>QTD_SEGURO_12 ou +</th>\n",
       "      <th>QTD_SEGURO_2</th>\n",
       "      <th>QTD_SEGURO_3</th>\n",
       "      <th>QTD_SEGURO_4</th>\n",
       "      <th>QTD_SEGURO_5</th>\n",
       "      <th>QTD_SEGURO_6</th>\n",
       "      <th>...</th>\n",
       "      <th>CdOcupacaoCBO_8069</th>\n",
       "      <th>CdOcupacaoCBO_8099</th>\n",
       "      <th>CdOcupacaoCBO_8620</th>\n",
       "      <th>CdOcupacaoCBO_8673</th>\n",
       "      <th>CdOcupacaoCBO_8700</th>\n",
       "      <th>CdOcupacaoCBO_9170</th>\n",
       "      <th>CdOcupacaoCBO_9502</th>\n",
       "      <th>CdOcupacaoCBO_9876</th>\n",
       "      <th>CdOcupacaoCBO_Indeterminado</th>\n",
       "      <th>CdOcupacaoCBO_Outros</th>\n",
       "    </tr>\n",
       "  </thead>\n",
       "  <tbody>\n",
       "    <tr>\n",
       "      <th>0</th>\n",
       "      <td>0.0</td>\n",
       "      <td>0.0</td>\n",
       "      <td>0.0</td>\n",
       "      <td>0.0</td>\n",
       "      <td>0.0</td>\n",
       "      <td>0.0</td>\n",
       "      <td>0.0</td>\n",
       "      <td>0.0</td>\n",
       "      <td>1.0</td>\n",
       "      <td>0.0</td>\n",
       "      <td>...</td>\n",
       "      <td>0.0</td>\n",
       "      <td>0.0</td>\n",
       "      <td>0.0</td>\n",
       "      <td>0.0</td>\n",
       "      <td>0.0</td>\n",
       "      <td>0.0</td>\n",
       "      <td>0.0</td>\n",
       "      <td>0.0</td>\n",
       "      <td>1.0</td>\n",
       "      <td>0.0</td>\n",
       "    </tr>\n",
       "    <tr>\n",
       "      <th>1</th>\n",
       "      <td>0.0</td>\n",
       "      <td>0.0</td>\n",
       "      <td>0.0</td>\n",
       "      <td>0.0</td>\n",
       "      <td>0.0</td>\n",
       "      <td>0.0</td>\n",
       "      <td>1.0</td>\n",
       "      <td>0.0</td>\n",
       "      <td>0.0</td>\n",
       "      <td>0.0</td>\n",
       "      <td>...</td>\n",
       "      <td>0.0</td>\n",
       "      <td>0.0</td>\n",
       "      <td>0.0</td>\n",
       "      <td>0.0</td>\n",
       "      <td>0.0</td>\n",
       "      <td>0.0</td>\n",
       "      <td>0.0</td>\n",
       "      <td>0.0</td>\n",
       "      <td>1.0</td>\n",
       "      <td>0.0</td>\n",
       "    </tr>\n",
       "    <tr>\n",
       "      <th>2</th>\n",
       "      <td>0.0</td>\n",
       "      <td>0.0</td>\n",
       "      <td>0.0</td>\n",
       "      <td>0.0</td>\n",
       "      <td>0.0</td>\n",
       "      <td>0.0</td>\n",
       "      <td>1.0</td>\n",
       "      <td>0.0</td>\n",
       "      <td>0.0</td>\n",
       "      <td>0.0</td>\n",
       "      <td>...</td>\n",
       "      <td>0.0</td>\n",
       "      <td>0.0</td>\n",
       "      <td>0.0</td>\n",
       "      <td>0.0</td>\n",
       "      <td>0.0</td>\n",
       "      <td>0.0</td>\n",
       "      <td>0.0</td>\n",
       "      <td>0.0</td>\n",
       "      <td>0.0</td>\n",
       "      <td>0.0</td>\n",
       "    </tr>\n",
       "    <tr>\n",
       "      <th>3</th>\n",
       "      <td>1.0</td>\n",
       "      <td>0.0</td>\n",
       "      <td>0.0</td>\n",
       "      <td>0.0</td>\n",
       "      <td>0.0</td>\n",
       "      <td>0.0</td>\n",
       "      <td>0.0</td>\n",
       "      <td>0.0</td>\n",
       "      <td>0.0</td>\n",
       "      <td>0.0</td>\n",
       "      <td>...</td>\n",
       "      <td>0.0</td>\n",
       "      <td>0.0</td>\n",
       "      <td>0.0</td>\n",
       "      <td>0.0</td>\n",
       "      <td>0.0</td>\n",
       "      <td>0.0</td>\n",
       "      <td>0.0</td>\n",
       "      <td>0.0</td>\n",
       "      <td>0.0</td>\n",
       "      <td>0.0</td>\n",
       "    </tr>\n",
       "    <tr>\n",
       "      <th>4</th>\n",
       "      <td>0.0</td>\n",
       "      <td>0.0</td>\n",
       "      <td>0.0</td>\n",
       "      <td>0.0</td>\n",
       "      <td>0.0</td>\n",
       "      <td>0.0</td>\n",
       "      <td>0.0</td>\n",
       "      <td>0.0</td>\n",
       "      <td>0.0</td>\n",
       "      <td>0.0</td>\n",
       "      <td>...</td>\n",
       "      <td>0.0</td>\n",
       "      <td>0.0</td>\n",
       "      <td>0.0</td>\n",
       "      <td>0.0</td>\n",
       "      <td>0.0</td>\n",
       "      <td>0.0</td>\n",
       "      <td>0.0</td>\n",
       "      <td>0.0</td>\n",
       "      <td>0.0</td>\n",
       "      <td>1.0</td>\n",
       "    </tr>\n",
       "  </tbody>\n",
       "</table>\n",
       "<p>5 rows × 67 columns</p>\n",
       "</div>"
      ],
      "text/plain": [
       "   QTD_SEGURO_1  QTD_SEGURO_10  QTD_SEGURO_11  QTD_SEGURO_12  \\\n",
       "0           0.0            0.0            0.0            0.0   \n",
       "1           0.0            0.0            0.0            0.0   \n",
       "2           0.0            0.0            0.0            0.0   \n",
       "3           1.0            0.0            0.0            0.0   \n",
       "4           0.0            0.0            0.0            0.0   \n",
       "\n",
       "   QTD_SEGURO_12 ou +  QTD_SEGURO_2  QTD_SEGURO_3  QTD_SEGURO_4  QTD_SEGURO_5  \\\n",
       "0                 0.0           0.0           0.0           0.0           1.0   \n",
       "1                 0.0           0.0           1.0           0.0           0.0   \n",
       "2                 0.0           0.0           1.0           0.0           0.0   \n",
       "3                 0.0           0.0           0.0           0.0           0.0   \n",
       "4                 0.0           0.0           0.0           0.0           0.0   \n",
       "\n",
       "   QTD_SEGURO_6  ...  CdOcupacaoCBO_8069  CdOcupacaoCBO_8099  \\\n",
       "0           0.0  ...                 0.0                 0.0   \n",
       "1           0.0  ...                 0.0                 0.0   \n",
       "2           0.0  ...                 0.0                 0.0   \n",
       "3           0.0  ...                 0.0                 0.0   \n",
       "4           0.0  ...                 0.0                 0.0   \n",
       "\n",
       "   CdOcupacaoCBO_8620  CdOcupacaoCBO_8673  CdOcupacaoCBO_8700  \\\n",
       "0                 0.0                 0.0                 0.0   \n",
       "1                 0.0                 0.0                 0.0   \n",
       "2                 0.0                 0.0                 0.0   \n",
       "3                 0.0                 0.0                 0.0   \n",
       "4                 0.0                 0.0                 0.0   \n",
       "\n",
       "   CdOcupacaoCBO_9170  CdOcupacaoCBO_9502  CdOcupacaoCBO_9876  \\\n",
       "0                 0.0                 0.0                 0.0   \n",
       "1                 0.0                 0.0                 0.0   \n",
       "2                 0.0                 0.0                 0.0   \n",
       "3                 0.0                 0.0                 0.0   \n",
       "4                 0.0                 0.0                 0.0   \n",
       "\n",
       "   CdOcupacaoCBO_Indeterminado  CdOcupacaoCBO_Outros  \n",
       "0                          1.0                   0.0  \n",
       "1                          1.0                   0.0  \n",
       "2                          0.0                   0.0  \n",
       "3                          0.0                   0.0  \n",
       "4                          0.0                   1.0  \n",
       "\n",
       "[5 rows x 67 columns]"
      ]
     },
     "execution_count": 6,
     "metadata": {},
     "output_type": "execute_result"
    }
   ],
   "source": [
    "from sklearn.preprocessing import OneHotEncoder\n",
    "import pandas as pd\n",
    "df_cat = df_red[CAT_COLS]\n",
    "encoder = OneHotEncoder()\n",
    "cat_mtx = encoder.fit_transform(df_cat)\n",
    "df_cat = pd.DataFrame(cat_mtx.toarray(), columns = encoder.get_feature_names_out())\n",
    "df_cat.head()"
   ]
  },
  {
   "cell_type": "code",
   "execution_count": null,
   "id": "db20de2c-2a8d-4959-8d86-9848fc97269b",
   "metadata": {},
   "outputs": [],
   "source": [
    "df_final = pd.concat([df_cat,df_red[NUM_COLS], df_red.fl_renovou], axis = 1)"
   ]
  },
  {
   "cell_type": "code",
   "execution_count": null,
   "id": "0ff7e024-fdc2-4919-add3-318f91e59d92",
   "metadata": {},
   "outputs": [],
   "source": [
    "df_final = df_final.dropna().reset_index(drop=True)"
   ]
  },
  {
   "cell_type": "code",
   "execution_count": null,
   "id": "6f6d568a-eabd-44d9-a1a1-1a4de86e74f7",
   "metadata": {},
   "outputs": [],
   "source": [
    "df_y = df_final.fl_renovou\n",
    "del df_final['fl_renovou']"
   ]
  },
  {
   "cell_type": "code",
   "execution_count": null,
   "id": "f130884d-4623-4cc9-a068-28dac28df3cb",
   "metadata": {},
   "outputs": [],
   "source": [
    "features_interaction = ['QTD_SEGURO_1',\n",
    "'QTD_SEGURO_10',\n",
    "'QTD_SEGURO_11',\n",
    "'QTD_SEGURO_12',\n",
    "'QTD_SEGURO_12 ou +',\n",
    "'QTD_SEGURO_2',\n",
    "'QTD_SEGURO_3',\n",
    "'QTD_SEGURO_4',\n",
    "'QTD_SEGURO_5',\n",
    "'QTD_SEGURO_6',\n",
    "'QTD_SEGURO_7',\n",
    "'QTD_SEGURO_8',\n",
    "'QTD_SEGURO_9',\n",
    "'QTD_CP_CONSIGNADO',\n",
    "'QTD_CDCCG',\n",
    "'QTD_CONTA_DIGITAL',\n",
    "'QTD_CARTAO',\n",
    "'QTD_OUTROS']"
   ]
  },
  {
   "cell_type": "code",
   "execution_count": null,
   "id": "7a9fec7b-d332-41cc-8bf4-1981c0e45534",
   "metadata": {},
   "outputs": [],
   "source": [
    "from sklearn.preprocessing import PolynomialFeatures\n",
    "\n",
    "poly = PolynomialFeatures(degree = 5, interaction_only=True)\n",
    "df_poly = poly.fit_transform(df_final[features_interaction])\n"
   ]
  },
  {
   "cell_type": "code",
   "execution_count": null,
   "id": "01f97ae9-366d-48e5-b194-56313317288d",
   "metadata": {},
   "outputs": [],
   "source": [
    "df_poly = pd.DataFrame(df_poly,columns = poly.get_feature_names_out())"
   ]
  },
  {
   "cell_type": "code",
   "execution_count": null,
   "id": "58214802-6dc1-4f50-adf8-a3bb1d5956ac",
   "metadata": {},
   "outputs": [],
   "source": [
    "del df_poly['1']"
   ]
  },
  {
   "cell_type": "code",
   "execution_count": null,
   "id": "e7b09865-a4e3-49b8-84a8-5ac135e9f191",
   "metadata": {},
   "outputs": [],
   "source": [
    "df_poly = df_poly.loc[:, (df_poly != 0).any(axis=0)]"
   ]
  },
  {
   "cell_type": "code",
   "execution_count": null,
   "id": "c5770991-93e4-4579-935a-134973ec1b9f",
   "metadata": {},
   "outputs": [],
   "source": [
    "for col in features_interaction:\n",
    "    del df_poly[col]"
   ]
  },
  {
   "cell_type": "code",
   "execution_count": null,
   "id": "f054e1c1-1a16-44ac-a590-8acdcbe2c16d",
   "metadata": {},
   "outputs": [],
   "source": [
    "df_consolidado = pd.concat([df_final, df_poly], axis = 1)"
   ]
  },
  {
   "cell_type": "code",
   "execution_count": null,
   "id": "e9133564-7d25-4bf1-b1c8-2551abdf5ae5",
   "metadata": {},
   "outputs": [],
   "source": [
    "from sklearn.model_selection import train_test_split\n",
    "\n",
    "X_train, X_test, y_train, y_test = train_test_split(df_consolidado, df_y, test_size=0.2, random_state=42)"
   ]
  },
  {
   "cell_type": "code",
   "execution_count": null,
   "id": "e6498d7c-465c-4d17-831c-b9f1a7fe0e97",
   "metadata": {},
   "outputs": [],
   "source": [
    "from imblearn.over_sampling import SMOTE\n",
    "from imblearn.under_sampling import RandomUnderSampler\n",
    "\n",
    "oversample = SMOTE(sampling_strategy=0.7, random_state = 42)\n",
    "X_over, y_over = oversample.fit_resample(X_train, y_train)"
   ]
  },
  {
   "cell_type": "code",
   "execution_count": null,
   "id": "4297a3fd-0528-4314-813d-f958c4bb5685",
   "metadata": {},
   "outputs": [],
   "source": [
    "import xgboost as xgb\n",
    "\n",
    "dtrain = xgb.DMatrix(X_over, label=y_over)\n",
    "dtest = xgb.DMatrix(X_test, label=y_test)"
   ]
  },
  {
   "cell_type": "code",
   "execution_count": null,
   "id": "71dd0751-2118-4c1d-9e62-8ed713c898c5",
   "metadata": {},
   "outputs": [
    {
     "name": "stdout",
     "output_type": "stream",
     "text": [
      "100%|██████████| 100/100 [1:27:06<00:00, 52.26s/trial, best loss: 0.3950619369715288]\n"
     ]
    }
   ],
   "source": [
    "from hyperopt import fmin, tpe, hp, STATUS_OK, Trials\n",
    "from hyperopt.pyll import scope\n",
    "from sklearn.metrics import roc_auc_score\n",
    "import numpy as np\n",
    "\n",
    "def objective(params):\n",
    "    xgb.set_config(verbosity=0)\n",
    "    booster = xgb.train(\n",
    "            params=params,\n",
    "            dtrain=dtrain,\n",
    "            num_boost_round=500,\n",
    "            evals=[(dtest, 'validation')],\n",
    "            early_stopping_rounds=50,\n",
    "            verbose_eval= False\n",
    "        )\n",
    "    y_pred = booster.predict(dtest)\n",
    "    metric = 1 - roc_auc_score(y_test, y_pred)\n",
    "\n",
    "    return {'loss': metric, 'status': STATUS_OK}\n",
    "\n",
    "search_space = {\n",
    "    'max_depth': scope.int(hp.quniform('max_depth', 50, 100, 1)),\n",
    "    'max_delta_step': scope.int(hp.quniform('max_delta_step', 0, 10, 1)),\n",
    "    'learning_rate': hp.loguniform('learning_rate', -3, 0),\n",
    "    'scale_pos_weight': hp.loguniform('scale_pos_weight', -1, 1),\n",
    "    'min_child_weight': hp.loguniform('min_child_weight', -1, 3),\n",
    "    'objective': 'binary:logistic',\n",
    "    'eval_metric' : 'auc',\n",
    "    'seed': 42\n",
    "}\n",
    "\n",
    "best_result = fmin(\n",
    "    fn=objective,\n",
    "    space=search_space,\n",
    "    algo=tpe.suggest,\n",
    "    max_evals=100,\n",
    "    trials=Trials()\n",
    ")"
   ]
  },
  {
   "cell_type": "code",
   "execution_count": null,
   "id": "707debc4-47a5-4151-8711-244f9a342450",
   "metadata": {},
   "outputs": [
    {
     "data": {
      "text/plain": [
       "{'learning_rate': 0.0744826948331869,\n",
       " 'max_delta_step': 2.0,\n",
       " 'max_depth': 51.0,\n",
       " 'min_child_weight': 3.722132768800759,\n",
       " 'scale_pos_weight': 1.8339305861859643}"
      ]
     },
     "execution_count": 212,
     "metadata": {},
     "output_type": "execute_result"
    }
   ],
   "source": [
    "best_result"
   ]
  },
  {
   "cell_type": "code",
   "execution_count": null,
   "id": "19178a7d-f4fc-407c-9864-4b8907ba6723",
   "metadata": {},
   "outputs": [],
   "source": [
    "param = {'learning_rate': 0.0744826948331869,\n",
    " 'max_delta_step': 2,\n",
    " 'max_depth': 51,\n",
    " 'min_child_weight': 3.722132768800759,\n",
    " 'scale_pos_weight': 1.8339305861859643}\n",
    "param['objective'] = 'binary:logistic'\n",
    "param['eval_metric'] = 'auc'\n",
    "param['seed'] = 42\n",
    "num_round = 1000\n",
    "bst = xgb.train(\n",
    "            params=param,\n",
    "            dtrain=dtrain,\n",
    "            num_boost_round=1000,\n",
    "            evals=[(dtest, 'validation')],\n",
    "            early_stopping_rounds=100,\n",
    "            verbose_eval= False)"
   ]
  },
  {
   "cell_type": "code",
   "execution_count": null,
   "id": "60586e90-d7d6-4f17-868f-b8b7ab381913",
   "metadata": {},
   "outputs": [],
   "source": [
    "f_i_dict = bst.get_score(importance_type = 'gain')\n",
    "f_i_dict = {k: v for k, v in sorted(f_i_dict.items(), key=lambda item: item[1], reverse = True)}"
   ]
  },
  {
   "cell_type": "code",
   "execution_count": null,
   "id": "0ccfcc4e-6463-41fe-84f3-5bfed28f0148",
   "metadata": {},
   "outputs": [
    {
     "data": {
      "text/plain": [
       "{'CdUfNaturalidade_Sudeste': 354.3580322265625,\n",
       " 'CdUfNaturalidade_Sul': 130.39212036132812,\n",
       " 'CdOcupacaoCBO_2684': 102.15770721435547,\n",
       " 'CdOcupacaoCBO_Indeterminado': 77.70697021484375,\n",
       " 'CdUfNaturalidade_Norte': 51.987152099609375,\n",
       " 'CdOcupacaoCBO_7897': 43.623355865478516,\n",
       " 'QTD_SEGURO_4 QTD_CDCCG QTD_CONTA_DIGITAL QTD_CARTAO': 29.363439559936523,\n",
       " 'CdOcupacaoCBO_8700': 27.59644889831543,\n",
       " 'QTD_SEGURO_4': 27.004480361938477,\n",
       " 'QTD_SEGURO_3': 26.42230224609375,\n",
       " 'flmat30conta': 25.70826530456543,\n",
       " 'CdOcupacaoCBO_4857': 25.47775650024414,\n",
       " 'QTD_SEGURO_1 QTD_CP_CONSIGNADO': 23.69093132019043,\n",
       " 'QTD_SEGURO_6': 23.62004280090332,\n",
       " 'CdOcupacaoCBO_Outros': 22.646137237548828,\n",
       " 'CdOcupacaoCBO_8069': 22.332754135131836,\n",
       " 'CdOcupacaoCBO_7598': 21.65192222595215,\n",
       " 'CdOcupacaoCBO_5712': 21.61886978149414,\n",
       " 'CdOcupacaoCBO_3694': 21.4447078704834,\n",
       " 'CdOcupacaoCBO_3968': 21.14576530456543,\n",
       " 'CdOcupacaoCBO_9170': 19.84295654296875,\n",
       " 'CdOcupacaoCBO_7631': 19.77652359008789,\n",
       " 'QTD_SEGURO_1': 19.682910919189453,\n",
       " 'CdOcupacaoCBO_8099': 19.11592674255371,\n",
       " 'QTD_SEGURO_5 QTD_OUTROS': 18.487850189208984,\n",
       " 'QTD_SEGURO_5 QTD_CDCCG': 18.441913604736328,\n",
       " 'QTD_SEGURO_7': 17.868816375732422,\n",
       " 'CdOcupacaoCBO_7328': 17.65863037109375,\n",
       " 'CdOcupacaoCBO_3048': 17.544981002807617,\n",
       " 'CdOcupacaoCBO_1491': 16.528499603271484,\n",
       " 'QTD_SEGURO_6 QTD_CDCCG': 15.876623153686523,\n",
       " 'QTD_SEGURO_9': 15.865184783935547,\n",
       " 'QTD_SEGURO_5 QTD_CDCCG QTD_CONTA_DIGITAL': 15.758769035339355,\n",
       " 'CdOcupacaoCBO_5954': 15.627755165100098,\n",
       " 'QTD_SEGURO_6 QTD_CDCCG QTD_CARTAO': 15.57605266571045,\n",
       " 'CdOcupacaoCBO_2210': 14.401520729064941,\n",
       " 'QTD_SEGURO_5': 13.465385437011719,\n",
       " 'CdOcupacaoCBO_7898': 13.367630958557129,\n",
       " 'QTD_SEGURO_1 QTD_CARTAO': 13.198683738708496,\n",
       " 'CdOcupacaoCBO_1103': 13.100266456604004,\n",
       " 'Capacidade_de_Pagamento_1': 13.063150405883789,\n",
       " 'QTD_SEGURO_2 QTD_CP_CONSIGNADO': 12.800384521484375,\n",
       " 'CdOcupacaoCBO_5411': 12.587141036987305,\n",
       " 'QTD_SEGURO_2 QTD_CARTAO': 12.521429061889648,\n",
       " 'QTD_SEGURO_6 QTD_CARTAO': 12.32657527923584,\n",
       " 'QTD_SEGURO_9 QTD_CDCCG QTD_CONTA_DIGITAL': 12.165212631225586,\n",
       " 'QTD_SEGURO_4 QTD_CARTAO': 12.131815910339355,\n",
       " 'CdOcupacaoCBO_1933': 11.910325050354004,\n",
       " 'QTD_SEGURO_9 QTD_CONTA_DIGITAL': 11.69591999053955,\n",
       " 'CdOcupacaoCBO_8022': 11.530811309814453,\n",
       " 'CdOcupacaoCBO_4140': 11.122896194458008,\n",
       " 'QTD_SEGURO_2 QTD_CDCCG QTD_CONTA_DIGITAL': 11.039230346679688,\n",
       " 'CdOcupacaoCBO_188': 10.86749267578125,\n",
       " 'QTD_CDCCG QTD_OUTROS': 10.398239135742188,\n",
       " 'QTD_SEGURO_3 QTD_CDCCG': 10.278960227966309,\n",
       " 'CdOcupacaoCBO_1191': 9.890811920166016,\n",
       " 'QTD_CDCCG QTD_CONTA_DIGITAL': 9.567814826965332,\n",
       " 'QTD_SEGURO_5 QTD_CDCCG QTD_CARTAO': 9.467020988464355,\n",
       " 'flmau90conta': 9.292936325073242,\n",
       " 'QTD_SEGURO_2': 9.043729782104492,\n",
       " 'CdOcupacaoCBO_297': 8.859256744384766,\n",
       " 'QTD_SEGURO_12 QTD_CDCCG QTD_CARTAO': 8.846694946289062,\n",
       " 'CdOcupacaoCBO_5594': 8.809261322021484,\n",
       " 'CdOcupacaoCBO_3995': 8.806549072265625,\n",
       " 'CdOcupacaoCBO_6508': 8.792747497558594,\n",
       " 'QTD_SEGURO_2 QTD_CDCCG': 8.699992179870605,\n",
       " 'CdOcupacaoCBO_9502': 8.520952224731445,\n",
       " 'flmau30conta': 8.44191837310791,\n",
       " 'CdOcupacaoCBO_1988': 8.436476707458496,\n",
       " 'QTD_SEGURO_7 QTD_CDCCG': 8.432087898254395,\n",
       " 'QTD_CP_CONSIGNADO QTD_CARTAO': 8.356060981750488,\n",
       " 'QTD_SEGURO_3 QTD_CDCCG QTD_CONTA_DIGITAL': 8.155204772949219,\n",
       " 'QTD_SEGURO_6 QTD_CONTA_DIGITAL QTD_CARTAO': 8.125076293945312,\n",
       " 'flmat60conta': 8.035381317138672,\n",
       " 'QTD_CARTAO QTD_OUTROS': 8.02406120300293,\n",
       " 'QTD_CDCCG QTD_CARTAO': 7.906799793243408,\n",
       " 'CdUfNaturalidade_Centro-oeste': 7.664627552032471,\n",
       " 'QTD_SEGURO_7 QTD_CONTA_DIGITAL QTD_CARTAO': 7.604710102081299,\n",
       " 'QTD_SEGURO_1 QTD_CDCCG': 7.470156192779541,\n",
       " 'QTD_SEGURO_1 QTD_CDCCG QTD_CARTAO': 7.377857208251953,\n",
       " 'QTD_SEGURO_2 QTD_CONTA_DIGITAL QTD_CARTAO': 7.236807823181152,\n",
       " 'QTD_CONTA_DIGITAL QTD_CARTAO': 7.229223251342773,\n",
       " 'QTD_SEGURO_2 QTD_CDCCG QTD_CARTAO': 7.0317606925964355,\n",
       " 'QTD_SEGURO_1 QTD_CONTA_DIGITAL': 6.736143589019775,\n",
       " 'QTD_SEGURO_2 QTD_CONTA_DIGITAL': 6.73394775390625,\n",
       " 'QTD_SEGURO_7 QTD_CARTAO': 6.713364601135254,\n",
       " 'CdOcupacaoCBO_1932': 6.511741638183594,\n",
       " 'flmau60conta': 6.497485160827637,\n",
       " 'QTD_CDCCG': 6.415378093719482,\n",
       " 'CdOcupacaoCBO_6568': 6.391525745391846,\n",
       " 'QTD_SEGURO_3 QTD_CONTA_DIGITAL': 6.373566627502441,\n",
       " 'QTD_SEGURO_7 QTD_CDCCG QTD_CARTAO': 6.314594745635986,\n",
       " 'QTD_SEGURO_12': 6.263846397399902,\n",
       " 'CdOcupacaoCBO_10101': 6.218340873718262,\n",
       " 'CdOcupacaoCBO_7326': 6.1474609375,\n",
       " 'QTD_SEGURO_9 QTD_CARTAO': 6.023386001586914,\n",
       " 'QTD_SEGURO_9 QTD_CDCCG': 6.005944728851318,\n",
       " 'QTD_CONTA_DIGITAL': 5.923999786376953,\n",
       " 'QTD_SEGURO_4 QTD_CONTA_DIGITAL': 5.8445916175842285,\n",
       " 'QTD_SEGURO_4 QTD_CONTA_DIGITAL QTD_CARTAO': 5.753800868988037,\n",
       " 'CdOcupacaoCBO_3442': 5.682650566101074,\n",
       " 'CdOcupacaoCBO_5078': 5.681129455566406,\n",
       " 'QTD_CARTAO': 5.396083831787109,\n",
       " 'CdOcupacaoCBO_8673': 4.9242401123046875,\n",
       " 'CdOcupacaoCBO_2362': 4.866573810577393,\n",
       " 'CdOcupacaoCBO_8620': 4.8319549560546875,\n",
       " 'CdOcupacaoCBO_7906': 4.784067153930664,\n",
       " 'QTD_SEGURO_4 QTD_CDCCG': 4.748868942260742,\n",
       " 'QTD_SEGURO_1 QTD_CONTA_DIGITAL QTD_CARTAO': 4.693086624145508,\n",
       " 'flmat90conta': 4.678517818450928,\n",
       " 'QTD_SEGURO_5 QTD_CONTA_DIGITAL': 4.617252826690674,\n",
       " 'CdUfNaturalidade_Nordeste': 4.57383394241333,\n",
       " 'QTD_SEGURO_5 QTD_CARTAO': 4.517386436462402,\n",
       " 'QTD_SEGURO_12 QTD_CONTA_DIGITAL QTD_CARTAO': 4.464653015136719,\n",
       " 'QTD_SEGURO_3 QTD_CARTAO': 4.428740978240967,\n",
       " 'Grupo_Etario': 4.367990016937256,\n",
       " 'QTD_SEGURO_12 QTD_CARTAO': 4.273069858551025,\n",
       " 'QTD_SEGURO_7 QTD_CONTA_DIGITAL': 4.077735424041748,\n",
       " 'QTD_SEGURO_6 QTD_CDCCG QTD_CONTA_DIGITAL QTD_CARTAO': 3.813899278640747,\n",
       " 'QTD_SEGURO_12 QTD_CDCCG': 3.6979262828826904,\n",
       " 'Capacidade_de_Pagamento_5': 3.642531156539917,\n",
       " 'Capacidade_de_Pagamento_7': 3.5880019664764404,\n",
       " 'QTD_SEGURO_3 QTD_CONTA_DIGITAL QTD_CARTAO': 3.564946413040161,\n",
       " 'QTD_SEGURO_2 QTD_CDCCG QTD_CONTA_DIGITAL QTD_CARTAO': 3.483304262161255,\n",
       " 'CdUfNaturalidade_nan': 3.4576656818389893,\n",
       " 'QTD_CONTA_DIGITAL QTD_OUTROS': 3.407379150390625,\n",
       " 'QTD_SEGURO_1 QTD_CDCCG QTD_CONTA_DIGITAL QTD_CARTAO': 3.121978759765625,\n",
       " 'Capacidade_de_Pagamento_2': 3.0700056552886963,\n",
       " 'QTD_SEGURO_4 QTD_CDCCG QTD_CARTAO': 3.0270259380340576,\n",
       " 'tempo_desde_primeiro_contrato': 2.960531711578369,\n",
       " 'QTD_SEGURO_5 QTD_CDCCG QTD_CONTA_DIGITAL QTD_CARTAO': 2.9146721363067627,\n",
       " 'Capacidade_de_Pagamento_4': 2.9025347232818604,\n",
       " 'QTD_CP_CONSIGNADO': 2.8889899253845215,\n",
       " 'Capacidade_de_Pagamento_6': 2.756906032562256,\n",
       " 'VrRenda': 2.716259479522705,\n",
       " 'QTD_SEGURO_3 QTD_CDCCG QTD_CARTAO': 2.549473285675049,\n",
       " 'Capacidade_de_Pagamento_3': 2.549111843109131,\n",
       " 'tempo_desde_ultimo_contrato': 2.5219430923461914,\n",
       " 'QTD_CDCCG QTD_CONTA_DIGITAL QTD_CARTAO': 2.3362162113189697,\n",
       " 'QTD_SEGURO_5 QTD_CONTA_DIGITAL QTD_CARTAO': 2.166069269180298,\n",
       " 'QTD_SEGURO_3 QTD_CDCCG QTD_CONTA_DIGITAL QTD_CARTAO': 2.097604751586914,\n",
       " 'QTD_SEGURO_6 QTD_CONTA_DIGITAL': 1.9933428764343262,\n",
       " 'QTD_SEGURO_6 QTD_CDCCG QTD_CONTA_DIGITAL': 1.5272737741470337,\n",
       " 'QTD_SEGURO_9 QTD_CDCCG QTD_CARTAO': 1.4895374774932861,\n",
       " 'QTD_SEGURO_1 QTD_CP_CONSIGNADO QTD_CARTAO': 1.4367884397506714,\n",
       " 'QTD_SEGURO_9 QTD_CONTA_DIGITAL QTD_CARTAO': 0.9921817779541016,\n",
       " 'CdOcupacaoCBO_1381': 0.9309902191162109,\n",
       " 'QTD_OUTROS': 0.8282544016838074,\n",
       " 'QTD_SEGURO_4 QTD_CDCCG QTD_CONTA_DIGITAL': 0.7909924983978271,\n",
       " 'QTD_SEGURO_7 QTD_CDCCG QTD_CONTA_DIGITAL QTD_CARTAO': 0.6062777638435364}"
      ]
     },
     "execution_count": 26,
     "metadata": {},
     "output_type": "execute_result"
    }
   ],
   "source": [
    "f_i_dict"
   ]
  },
  {
   "cell_type": "code",
   "execution_count": null,
   "id": "68618577-5f6f-4a54-a7ee-8de086b98d42",
   "metadata": {},
   "outputs": [],
   "source": [
    "bes_int = {x:y for x,y in zip(list(f_i_dict.keys()),list(f_i_dict.values())) if x in list(df_poly.columns)}\n",
    "best_int = list(bes_int.keys())[:17]"
   ]
  },
  {
   "cell_type": "code",
   "execution_count": null,
   "id": "6b37d18e-f716-45eb-bbd6-105673e5f6ea",
   "metadata": {},
   "outputs": [
    {
     "data": {
      "text/plain": [
       "{'QTD_SEGURO_4 QTD_CDCCG QTD_CONTA_DIGITAL QTD_CARTAO': 29.363439559936523,\n",
       " 'QTD_SEGURO_1 QTD_CP_CONSIGNADO': 23.69093132019043,\n",
       " 'QTD_SEGURO_5 QTD_OUTROS': 18.487850189208984,\n",
       " 'QTD_SEGURO_5 QTD_CDCCG': 18.441913604736328,\n",
       " 'QTD_SEGURO_6 QTD_CDCCG': 15.876623153686523,\n",
       " 'QTD_SEGURO_5 QTD_CDCCG QTD_CONTA_DIGITAL': 15.758769035339355,\n",
       " 'QTD_SEGURO_6 QTD_CDCCG QTD_CARTAO': 15.57605266571045,\n",
       " 'QTD_SEGURO_1 QTD_CARTAO': 13.198683738708496,\n",
       " 'QTD_SEGURO_2 QTD_CP_CONSIGNADO': 12.800384521484375,\n",
       " 'QTD_SEGURO_2 QTD_CARTAO': 12.521429061889648,\n",
       " 'QTD_SEGURO_6 QTD_CARTAO': 12.32657527923584,\n",
       " 'QTD_SEGURO_9 QTD_CDCCG QTD_CONTA_DIGITAL': 12.165212631225586,\n",
       " 'QTD_SEGURO_4 QTD_CARTAO': 12.131815910339355,\n",
       " 'QTD_SEGURO_9 QTD_CONTA_DIGITAL': 11.69591999053955,\n",
       " 'QTD_SEGURO_2 QTD_CDCCG QTD_CONTA_DIGITAL': 11.039230346679688,\n",
       " 'QTD_CDCCG QTD_OUTROS': 10.398239135742188,\n",
       " 'QTD_SEGURO_3 QTD_CDCCG': 10.278960227966309,\n",
       " 'QTD_CDCCG QTD_CONTA_DIGITAL': 9.567814826965332,\n",
       " 'QTD_SEGURO_5 QTD_CDCCG QTD_CARTAO': 9.467020988464355,\n",
       " 'QTD_SEGURO_12 QTD_CDCCG QTD_CARTAO': 8.846694946289062,\n",
       " 'QTD_SEGURO_2 QTD_CDCCG': 8.699992179870605,\n",
       " 'QTD_SEGURO_7 QTD_CDCCG': 8.432087898254395,\n",
       " 'QTD_CP_CONSIGNADO QTD_CARTAO': 8.356060981750488,\n",
       " 'QTD_SEGURO_3 QTD_CDCCG QTD_CONTA_DIGITAL': 8.155204772949219,\n",
       " 'QTD_SEGURO_6 QTD_CONTA_DIGITAL QTD_CARTAO': 8.125076293945312,\n",
       " 'QTD_CARTAO QTD_OUTROS': 8.02406120300293,\n",
       " 'QTD_CDCCG QTD_CARTAO': 7.906799793243408,\n",
       " 'QTD_SEGURO_7 QTD_CONTA_DIGITAL QTD_CARTAO': 7.604710102081299,\n",
       " 'QTD_SEGURO_1 QTD_CDCCG': 7.470156192779541,\n",
       " 'QTD_SEGURO_1 QTD_CDCCG QTD_CARTAO': 7.377857208251953,\n",
       " 'QTD_SEGURO_2 QTD_CONTA_DIGITAL QTD_CARTAO': 7.236807823181152,\n",
       " 'QTD_CONTA_DIGITAL QTD_CARTAO': 7.229223251342773,\n",
       " 'QTD_SEGURO_2 QTD_CDCCG QTD_CARTAO': 7.0317606925964355,\n",
       " 'QTD_SEGURO_1 QTD_CONTA_DIGITAL': 6.736143589019775,\n",
       " 'QTD_SEGURO_2 QTD_CONTA_DIGITAL': 6.73394775390625,\n",
       " 'QTD_SEGURO_7 QTD_CARTAO': 6.713364601135254,\n",
       " 'QTD_SEGURO_3 QTD_CONTA_DIGITAL': 6.373566627502441,\n",
       " 'QTD_SEGURO_7 QTD_CDCCG QTD_CARTAO': 6.314594745635986,\n",
       " 'QTD_SEGURO_9 QTD_CARTAO': 6.023386001586914,\n",
       " 'QTD_SEGURO_9 QTD_CDCCG': 6.005944728851318,\n",
       " 'QTD_SEGURO_4 QTD_CONTA_DIGITAL': 5.8445916175842285,\n",
       " 'QTD_SEGURO_4 QTD_CONTA_DIGITAL QTD_CARTAO': 5.753800868988037,\n",
       " 'QTD_SEGURO_4 QTD_CDCCG': 4.748868942260742,\n",
       " 'QTD_SEGURO_1 QTD_CONTA_DIGITAL QTD_CARTAO': 4.693086624145508,\n",
       " 'QTD_SEGURO_5 QTD_CONTA_DIGITAL': 4.617252826690674,\n",
       " 'QTD_SEGURO_5 QTD_CARTAO': 4.517386436462402,\n",
       " 'QTD_SEGURO_12 QTD_CONTA_DIGITAL QTD_CARTAO': 4.464653015136719,\n",
       " 'QTD_SEGURO_3 QTD_CARTAO': 4.428740978240967,\n",
       " 'QTD_SEGURO_12 QTD_CARTAO': 4.273069858551025,\n",
       " 'QTD_SEGURO_7 QTD_CONTA_DIGITAL': 4.077735424041748,\n",
       " 'QTD_SEGURO_6 QTD_CDCCG QTD_CONTA_DIGITAL QTD_CARTAO': 3.813899278640747,\n",
       " 'QTD_SEGURO_12 QTD_CDCCG': 3.6979262828826904,\n",
       " 'QTD_SEGURO_3 QTD_CONTA_DIGITAL QTD_CARTAO': 3.564946413040161,\n",
       " 'QTD_SEGURO_2 QTD_CDCCG QTD_CONTA_DIGITAL QTD_CARTAO': 3.483304262161255,\n",
       " 'QTD_CONTA_DIGITAL QTD_OUTROS': 3.407379150390625,\n",
       " 'QTD_SEGURO_1 QTD_CDCCG QTD_CONTA_DIGITAL QTD_CARTAO': 3.121978759765625,\n",
       " 'QTD_SEGURO_4 QTD_CDCCG QTD_CARTAO': 3.0270259380340576,\n",
       " 'QTD_SEGURO_5 QTD_CDCCG QTD_CONTA_DIGITAL QTD_CARTAO': 2.9146721363067627,\n",
       " 'QTD_SEGURO_3 QTD_CDCCG QTD_CARTAO': 2.549473285675049,\n",
       " 'QTD_CDCCG QTD_CONTA_DIGITAL QTD_CARTAO': 2.3362162113189697,\n",
       " 'QTD_SEGURO_5 QTD_CONTA_DIGITAL QTD_CARTAO': 2.166069269180298,\n",
       " 'QTD_SEGURO_3 QTD_CDCCG QTD_CONTA_DIGITAL QTD_CARTAO': 2.097604751586914,\n",
       " 'QTD_SEGURO_6 QTD_CONTA_DIGITAL': 1.9933428764343262,\n",
       " 'QTD_SEGURO_6 QTD_CDCCG QTD_CONTA_DIGITAL': 1.5272737741470337,\n",
       " 'QTD_SEGURO_9 QTD_CDCCG QTD_CARTAO': 1.4895374774932861,\n",
       " 'QTD_SEGURO_1 QTD_CP_CONSIGNADO QTD_CARTAO': 1.4367884397506714,\n",
       " 'QTD_SEGURO_9 QTD_CONTA_DIGITAL QTD_CARTAO': 0.9921817779541016,\n",
       " 'QTD_SEGURO_4 QTD_CDCCG QTD_CONTA_DIGITAL': 0.7909924983978271,\n",
       " 'QTD_SEGURO_7 QTD_CDCCG QTD_CONTA_DIGITAL QTD_CARTAO': 0.6062777638435364}"
      ]
     },
     "execution_count": 28,
     "metadata": {},
     "output_type": "execute_result"
    }
   ],
   "source": [
    "bes_int"
   ]
  },
  {
   "cell_type": "code",
   "execution_count": null,
   "id": "8973ae90-7e6a-49b3-8d9a-5f7b6a1af36a",
   "metadata": {},
   "outputs": [
    {
     "data": {
      "text/plain": [
       "(40774, 400)"
      ]
     },
     "execution_count": 29,
     "metadata": {},
     "output_type": "execute_result"
    }
   ],
   "source": [
    "df = pd.concat([df_consolidado,df_y], axis=1)\n",
    "df.shape"
   ]
  },
  {
   "cell_type": "code",
   "execution_count": null,
   "id": "06245964-339a-49a2-83f9-002e01f1f29d",
   "metadata": {},
   "outputs": [],
   "source": [
    "df_best = df[best_int+['fl_renovou']]"
   ]
  },
  {
   "cell_type": "code",
   "execution_count": null,
   "id": "5a3440a9-c765-45ac-ba3a-88d1533bd22d",
   "metadata": {},
   "outputs": [],
   "source": [
    "df_best = df_best.melt(['fl_renovou'], var_name='feat',  value_name='vals')"
   ]
  },
  {
   "cell_type": "code",
   "execution_count": null,
   "id": "b162a52d-5c1a-4b52-bf36-49e6585aabc1",
   "metadata": {},
   "outputs": [
    {
     "data": {
      "image/png": "[encoded data removed]",
      "text/plain": [
       "<Figure size 3672x216 with 17 Axes>"
      ]
     },
     "metadata": {
      "needs_background": "light"
     },
     "output_type": "display_data"
    }
   ],
   "source": [
    "import seaborn as sns\n",
    "import warnings\n",
    "warnings.simplefilter(action='ignore', category=FutureWarning)\n",
    "\n",
    "g = sns.FacetGrid(df_best, col='feat', hue=\"fl_renovou\", palette=\"Set1\", sharey = False)\n",
    "g = (g.map(sns.distplot, \"vals\", hist=False, rug=True))"
   ]
  },
  {
   "cell_type": "code",
   "execution_count": null,
   "id": "1a487fec-5a79-4ea2-ac70-f9f42885e88d",
   "metadata": {},
   "outputs": [],
   "source": [
    "df_final = df[list(bes_int.keys())+['fl_renovou']]"
   ]
  },
  {
   "cell_type": "code",
   "execution_count": null,
   "id": "8130a51f-96e4-40a5-9bff-3524777df00c",
   "metadata": {},
   "outputs": [],
   "source": [
    "conversao = {}\n",
    "imp = {}\n",
    "for col in df_final:\n",
    "    if col != 'fl_renovou':\n",
    "        conversao[col] = df_final.loc[df_final.fl_renovou == 1][col].sum()/df_final.loc[df_final.fl_renovou == 1][col].count()\n",
    "        imp[col] = bes_int[col]\n",
    "conv = {k: v for k, v in sorted(conversao.items(), key=lambda item: item[1], reverse = True)}"
   ]
  },
  {
   "cell_type": "code",
   "execution_count": null,
   "id": "1699ff2e-95df-4230-9f14-7ccc52d9a3d6",
   "metadata": {},
   "outputs": [],
   "source": [
    "for col in conv.keys():\n",
    "    print(col, imp[col], conversao[col],df_final.loc[df_final.fl_renovou == 1][col].sum(),df_final[col].sum()/df_final[col].count())"
   ]
  },
  {
   "cell_type": "markdown",
   "id": "89fd1b41-1b70-4dd5-86f8-8809da815fd1",
   "metadata": {},
   "source": [
    "QTD_CDCCG QTD_CARTAO  \n",
    "QTD_CONTA_DIGITAL QTD_CARTAO  \n",
    "QTD_CDCCG QTD_CONTA_DIGITAL  \n",
    "QTD_SEGURO QTD_CARTAO  "
   ]
  },
  {
   "cell_type": "code",
   "execution_count": null,
   "id": "43e1c05e-2de7-401e-8067-a5936160019b",
   "metadata": {},
   "outputs": [
    {
     "data": {
      "text/plain": [
       "tempo_desde_primeiro_contrato        18.922742\n",
       "tempo_desde_ultimo_contrato           0.349698\n",
       "QTD_CP_CONSIGNADO                   503.000000\n",
       "QTD_CDCCG                         18830.000000\n",
       "QTD_CONTA_DIGITAL                 14456.000000\n",
       "QTD_CARTAO                        23468.000000\n",
       "QTD_OUTROS                          479.000000\n",
       "flmat30conta                       5010.000000\n",
       "flmat60conta                       4553.000000\n",
       "flmat90conta                       3896.000000\n",
       "flmau30conta                      11731.000000\n",
       "flmau60conta                      10991.000000\n",
       "flmau90conta                      10023.000000\n",
       "Grupo_Etario                     181074.000000\n",
       "VrRenda                            -690.584348\n",
       "Capacidade_de_Pagamento_1         25527.000000\n",
       "Capacidade_de_Pagamento_2          -634.871614\n",
       "Capacidade_de_Pagamento_3           193.920315\n",
       "Capacidade_de_Pagamento_4            -2.951617\n",
       "Capacidade_de_Pagamento_5          -342.016742\n",
       "Capacidade_de_Pagamento_6           318.602788\n",
       "Capacidade_de_Pagamento_7        290043.000000\n",
       "dtype: float64"
      ]
     },
     "execution_count": 336,
     "metadata": {},
     "output_type": "execute_result"
    }
   ],
   "source": [
    "df_red[NUM_COLS].sum()"
   ]
  }
 ],
 "metadata": {
  "kernelspec": {
   "display_name": "Python (Local)",
   "language": "python",
   "name": "local-base"
  },
  "language_info": {
   "codemirror_mode": {
    "name": "ipython",
    "version": 3
   },
   "file_extension": ".py",
   "mimetype": "text/x-python",
   "name": "python",
   "nbconvert_exporter": "python",
   "pygments_lexer": "ipython3",
   "version": "3.7.12"
  }
 },
 "nbformat": 4,
 "nbformat_minor": 5
}
